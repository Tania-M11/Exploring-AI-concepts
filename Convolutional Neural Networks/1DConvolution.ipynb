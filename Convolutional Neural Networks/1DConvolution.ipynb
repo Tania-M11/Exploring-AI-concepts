{
  "cells": [
    {
      "cell_type": "code",
      "execution_count": null,
      "metadata": {
        "id": "xEslVv4wJNzC"
      },
      "outputs": [],
      "source": [
        "import numpy as np"
      ]
    },
    {
      "cell_type": "code",
      "source": [
        "#Definir las señales de entrada y el filtro\n",
        "x = np.array([2, 1, 0, 1, 2])  #Señal de entrada\n",
        "h = np.array([1, -1]) # Filtro"
      ],
      "metadata": {
        "id": "gdA9tZT6dzWg"
      },
      "execution_count": null,
      "outputs": []
    },
    {
      "cell_type": "code",
      "source": [
        "#Realizar la convolución\n",
        "y = np.convolve(x, h, mode = 'valid')"
      ],
      "metadata": {
        "id": "-v3VXlIZeOPw"
      },
      "execution_count": null,
      "outputs": []
    },
    {
      "cell_type": "code",
      "source": [
        "#Imprimir el resultado\n",
        "print(f'Señal de salida después de la convolución: {y}')"
      ],
      "metadata": {
        "colab": {
          "base_uri": "https://localhost:8080/"
        },
        "id": "jczA52C7ecz7",
        "outputId": "6f1c93ee-c156-4751-ec03-11f3221db56b"
      },
      "execution_count": null,
      "outputs": [
        {
          "output_type": "stream",
          "name": "stdout",
          "text": [
            "Señal de salida después de la convolución: [-1 -1  1  1]\n"
          ]
        }
      ]
    },
    {
      "cell_type": "markdown",
      "source": [
        "**hand operation**\n",
        "\n",
        "![image.png](data:image/png;base64,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)"
      ],
      "metadata": {
        "id": "ob9JeWIbvXiE"
      }
    }
  ],
  "metadata": {
    "colab": {
      "provenance": []
    },
    "kernelspec": {
      "display_name": "Python 3",
      "name": "python3"
    },
    "language_info": {
      "name": "python"
    }
  },
  "nbformat": 4,
  "nbformat_minor": 0
}