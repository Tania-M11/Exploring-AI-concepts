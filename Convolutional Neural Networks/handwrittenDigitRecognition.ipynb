{
  "cells": [
    {
      "cell_type": "markdown",
      "source": [
        "#**Convolutional Neural Networks applied in MNIST handwritten digit recognition**"
      ],
      "metadata": {
        "id": "zCgctLRF0CZK"
      }
    },
    {
      "cell_type": "code",
      "execution_count": 1,
      "metadata": {
        "id": "xEslVv4wJNzC"
      },
      "outputs": [],
      "source": [
        "import keras\n",
        "import numpy as np\n",
        "import pandas as pd\n",
        "import matplotlib as plt"
      ]
    },
    {
      "cell_type": "code",
      "source": [
        "#Load MNIST dataset\n",
        "mnist = keras.datasets.mnist\n",
        "\n",
        "#load split training and testing from MNIST dataset\n",
        "(training_images, training_labels), (test_images, test_labels) = mnist.load_data()"
      ],
      "metadata": {
        "colab": {
          "base_uri": "https://localhost:8080/"
        },
        "id": "rA9ly1ov0Oav",
        "outputId": "a512c788-ab10-4a79-db9a-bf44fe78898a"
      },
      "execution_count": 2,
      "outputs": [
        {
          "output_type": "stream",
          "name": "stdout",
          "text": [
            "Downloading data from https://storage.googleapis.com/tensorflow/tf-keras-datasets/mnist.npz\n",
            "11490434/11490434 [==============================] - 0s 0us/step\n"
          ]
        }
      ]
    },
    {
      "cell_type": "code",
      "source": [
        "##Normalize train pixel values ​​and test images.\n",
        "training_images = training_images /255.0\n",
        "test_images = test_images / 255.0"
      ],
      "metadata": {
        "id": "cwExrMSw1BXQ"
      },
      "execution_count": 3,
      "outputs": []
    },
    {
      "cell_type": "code",
      "source": [
        "#Build the classification model\n",
        "model = keras.models.Sequential([\n",
        "    #add convolutions and max pooling\n",
        "    keras.layers.Conv2D(32, (3, 3), activation = 'relu', input_shape = (28, 28, 1)),\n",
        "    keras.layers.MaxPooling2D(2, 2),\n",
        "\n",
        "    #Add the same layers as before.\n",
        "    keras.layers.Flatten(),\n",
        "    keras.layers.Dense(128, activation = 'relu'),\n",
        "    keras.layers.Dense(10, activation = 'softmax')\n",
        "])\n",
        "\n",
        "model.summary()"
      ],
      "metadata": {
        "colab": {
          "base_uri": "https://localhost:8080/"
        },
        "id": "BtVhfkxz1omx",
        "outputId": "8200832e-4436-4967-a077-c95aaca198e6"
      },
      "execution_count": 5,
      "outputs": [
        {
          "output_type": "stream",
          "name": "stdout",
          "text": [
            "Model: \"sequential\"\n",
            "_________________________________________________________________\n",
            " Layer (type)                Output Shape              Param #   \n",
            "=================================================================\n",
            " conv2d_1 (Conv2D)           (None, 26, 26, 32)        320       \n",
            "                                                                 \n",
            " max_pooling2d (MaxPooling2  (None, 13, 13, 32)        0         \n",
            " D)                                                              \n",
            "                                                                 \n",
            " flatten (Flatten)           (None, 5408)              0         \n",
            "                                                                 \n",
            " dense (Dense)               (None, 128)               692352    \n",
            "                                                                 \n",
            " dense_1 (Dense)             (None, 10)                1290      \n",
            "                                                                 \n",
            "=================================================================\n",
            "Total params: 693962 (2.65 MB)\n",
            "Trainable params: 693962 (2.65 MB)\n",
            "Non-trainable params: 0 (0.00 Byte)\n",
            "_________________________________________________________________\n"
          ]
        }
      ]
    },
    {
      "cell_type": "code",
      "source": [
        "#compile model\n",
        "model.compile(optimizer='adam',\n",
        "              loss = 'sparse_categorical_crossentropy',\n",
        "              metrics = ['accuracy'])"
      ],
      "metadata": {
        "id": "VWNarknD4SKI"
      },
      "execution_count": 8,
      "outputs": []
    },
    {
      "cell_type": "code",
      "source": [
        "#training the model\n",
        "history = model.fit(training_images, training_labels, epochs = 10)\n",
        "\n",
        "#graph training history\n",
        "pd.DataFrame(history.history).plot(grid = True)"
      ],
      "metadata": {
        "colab": {
          "base_uri": "https://localhost:8080/",
          "height": 859
        },
        "id": "uAvCxXlz4qpA",
        "outputId": "4797ed1a-1846-461a-b0ea-353c8d559705"
      },
      "execution_count": 9,
      "outputs": [
        {
          "output_type": "stream",
          "name": "stdout",
          "text": [
            "Epoch 1/10\n",
            "1875/1875 [==============================] - 47s 25ms/step - loss: 0.1428 - accuracy: 0.9581\n",
            "Epoch 2/10\n",
            "1875/1875 [==============================] - 45s 24ms/step - loss: 0.0494 - accuracy: 0.9848\n",
            "Epoch 3/10\n",
            "1875/1875 [==============================] - 61s 32ms/step - loss: 0.0315 - accuracy: 0.9901\n",
            "Epoch 4/10\n",
            "1875/1875 [==============================] - 46s 25ms/step - loss: 0.0207 - accuracy: 0.9930\n",
            "Epoch 5/10\n",
            "1875/1875 [==============================] - 52s 28ms/step - loss: 0.0141 - accuracy: 0.9955\n",
            "Epoch 6/10\n",
            "1875/1875 [==============================] - 66s 35ms/step - loss: 0.0103 - accuracy: 0.9965\n",
            "Epoch 7/10\n",
            "1875/1875 [==============================] - 40s 21ms/step - loss: 0.0077 - accuracy: 0.9974\n",
            "Epoch 8/10\n",
            "1875/1875 [==============================] - 41s 22ms/step - loss: 0.0064 - accuracy: 0.9979\n",
            "Epoch 9/10\n",
            "1875/1875 [==============================] - 45s 24ms/step - loss: 0.0050 - accuracy: 0.9983\n",
            "Epoch 10/10\n",
            "1875/1875 [==============================] - 46s 25ms/step - loss: 0.0052 - accuracy: 0.9981\n"
          ]
        },
        {
          "output_type": "execute_result",
          "data": {
            "text/plain": [
              "<Axes: >"
            ]
          },
          "metadata": {},
          "execution_count": 9
        },
        {
          "output_type": "display_data",
          "data": {
            "text/plain": [
              "<Figure size 640x480 with 1 Axes>"
            ],
            "image/png": "[encoded data removed]"
          },
          "metadata": {}
        }
      ]
    },
    {
      "cell_type": "code",
      "source": [
        "#Evaluar el model en el conjunto de entrenamiento\n",
        "loss, accuracy = model.evaluate(training_images, training_labels)\n",
        "print(f'Perdida en e conjunto de entrenamiento: {loss}')\n",
        "print(f'Precisión en conjunto de prueba: {accuracy}')"
      ],
      "metadata": {
        "colab": {
          "base_uri": "https://localhost:8080/"
        },
        "id": "a-sB86Q27E6p",
        "outputId": "abc1de84-7de6-45c5-e36a-40689a948291"
      },
      "execution_count": 10,
      "outputs": [
        {
          "output_type": "stream",
          "name": "stdout",
          "text": [
            "1875/1875 [==============================] - 13s 7ms/step - loss: 0.0057 - accuracy: 0.9979\n",
            "Perdida en e conjunto de entrenamiento: 0.005660100840032101\n",
            "Precisión en conjunto de prueba: 0.9979166388511658\n"
          ]
        }
      ]
    },
    {
      "cell_type": "code",
      "source": [
        "#Predict\n",
        "index = 1\n",
        "\n",
        "print(f'label: {test_labels[index]}')\n",
        "classification = model.predict(test_images[index:index+1])\n",
        "print(f'Classification: \\n {classification.reshape(-1, 1)}')"
      ],
      "metadata": {
        "colab": {
          "base_uri": "https://localhost:8080/"
        },
        "id": "O-xF4hDv7uGf",
        "outputId": "ccd9d5d6-68f5-4319-82c0-35a1691536a6"
      },
      "execution_count": 11,
      "outputs": [
        {
          "output_type": "stream",
          "name": "stdout",
          "text": [
            "label: 2\n",
            "1/1 [==============================] - 0s 99ms/step\n",
            "Classification: \n",
            " [[8.3627272e-12]\n",
            " [6.5242130e-12]\n",
            " [1.0000000e+00]\n",
            " [1.3152526e-15]\n",
            " [1.4423596e-21]\n",
            " [1.1558652e-20]\n",
            " [1.0662832e-14]\n",
            " [8.4066965e-22]\n",
            " [1.1006901e-12]\n",
            " [3.3842455e-16]]\n"
          ]
        }
      ]
    },
    {
      "cell_type": "markdown",
      "source": [
        "**When you run the code you will get**\n",
        "\n",
        "After carrying out the training we are going to execute a code that allows\n",
        "Visualize convolutions and pooling\n",
        "This code performs the visualization of convolutions and pooling in\n",
        "a convolutional neural network (CNN)"
      ],
      "metadata": {
        "id": "Fc2BvKJO8bvC"
      }
    },
    {
      "cell_type": "code",
      "source": [
        "#data preparation\n",
        "print(test_labels[:30])"
      ],
      "metadata": {
        "colab": {
          "base_uri": "https://localhost:8080/"
        },
        "id": "CIYK48Xa8iQM",
        "outputId": "5ec0e3a4-8721-4520-ae90-cc3c8fd9df8c"
      },
      "execution_count": 12,
      "outputs": [
        {
          "output_type": "stream",
          "name": "stdout",
          "text": [
            "[7 2 1 0 4 1 4 9 5 9 0 6 9 0 1 5 9 7 3 4 9 6 6 5 4 0 7 4 0 1]\n"
          ]
        }
      ]
    },
    {
      "cell_type": "code",
      "source": [
        "#Selection of Images of Interest\n",
        "\n",
        "#_____Example 1:_______\n",
        "\n",
        "# FIRST_IMAGE = 3\n",
        "# SECOND_IMAGE = 10\n",
        "# THIRD_IMAGE = 25\n",
        "\n",
        "#_____Example 2:_______\n",
        "FIRST_IMAGE = 2\n",
        "SECOND_IMAGE = 5\n",
        "THIRD_IMAGE = 14\n",
        "\n",
        "print(test_labels[FIRST_IMAGE])\n",
        "print(test_labels[SECOND_IMAGE])\n",
        "print(test_labels[THIRD_IMAGE])"
      ],
      "metadata": {
        "colab": {
          "base_uri": "https://localhost:8080/"
        },
        "id": "W6C9VeL981cN",
        "outputId": "891c1e5f-437b-4303-afce-599ad7285ddd"
      },
      "execution_count": 33,
      "outputs": [
        {
          "output_type": "stream",
          "name": "stdout",
          "text": [
            "1\n",
            "1\n",
            "1\n"
          ]
        }
      ]
    },
    {
      "cell_type": "code",
      "source": [
        "#Image Viewing\n",
        "import matplotlib.pyplot as plt\n",
        "\n",
        "f, axarr = plt.subplots(3, 1)\n",
        "axarr[0].imshow(test_images[FIRST_IMAGE])\n",
        "axarr[1].imshow(test_images[SECOND_IMAGE])\n",
        "axarr[2].imshow(test_images[THIRD_IMAGE])"
      ],
      "metadata": {
        "colab": {
          "base_uri": "https://localhost:8080/",
          "height": 452
        },
        "id": "eNlpda6X9Sn4",
        "outputId": "0f657c0d-a184-4ab1-854a-e2f09b178af0"
      },
      "execution_count": 34,
      "outputs": [
        {
          "output_type": "execute_result",
          "data": {
            "text/plain": [
              "<matplotlib.image.AxesImage at 0x7e94ceee8df0>"
            ]
          },
          "metadata": {},
          "execution_count": 34
        },
        {
          "output_type": "display_data",
          "data": {
            "text/plain": [
              "<Figure size 640x480 with 3 Axes>"
            ],
            "image/png": "[encoded data removed]"
          },
          "metadata": {}
        }
      ]
    },
    {
      "cell_type": "code",
      "source": [
        "#Activation Extraction\n",
        "\n",
        "layer = 0\n",
        "filter1 = 0\n",
        "filter2 = 10\n",
        "\n",
        "\n",
        "layer_outputs = [layer.output for layer in model.layers]\n",
        "\n",
        "# Create the activation model\n",
        "activation_model = keras.models.Model(inputs = model.input, outputs = layer_outputs)\n"
      ],
      "metadata": {
        "id": "nT7kmrji-e9m"
      },
      "execution_count": 35,
      "outputs": []
    },
    {
      "cell_type": "code",
      "source": [
        "#Visualization of Convolutions\n",
        "f, axarr = plt.subplots(3,3)\n",
        "\n",
        "axarr[0, 0].set_title('Image Input')\n",
        "axarr[0,0].imshow(test_images[FIRST_IMAGE])\n",
        "f1 = activation_model.predict(test_images[FIRST_IMAGE].reshape(1, 28, 28, 1))[layer]\n",
        "\n",
        "axarr[0, 1].set_title('layers' + str(layer) + ', filter1')\n",
        "axarr[0, 1].imshow(f1[0, :, :, filter1])\n",
        "\n",
        "axarr[0, 2].set_title('layers' + str(layer) + ', filter2')\n",
        "axarr[0, 2].imshow(f1[0, :, :, filter2])\n",
        "\n",
        "\n",
        "axarr[1,0].imshow(test_images[SECOND_IMAGE])\n",
        "f2 = activation_model.predict(test_images[SECOND_IMAGE].reshape(1, 28, 28, 1))[layer]\n",
        "axarr[1, 1].imshow(f2[0, :, :, filter1])\n",
        "axarr[1, 2].imshow(f2[0, :, :, filter2])\n",
        "\n",
        "axarr[2,0].imshow(test_images[THIRD_IMAGE])\n",
        "f3 = activation_model.predict(test_images[THIRD_IMAGE].reshape(1, 28, 28, 1))[layer]\n",
        "axarr[2, 1].imshow(f3[0, :, :, filter1])\n",
        "axarr[2, 2].imshow(f3[0, :, :, filter2])\n"
      ],
      "metadata": {
        "colab": {
          "base_uri": "https://localhost:8080/",
          "height": 530
        },
        "id": "fHxgaV3L_dNo",
        "outputId": "d8da7d36-5283-4b70-bb65-ab46285f2c85"
      },
      "execution_count": 36,
      "outputs": [
        {
          "output_type": "stream",
          "name": "stdout",
          "text": [
            "1/1 [==============================] - 0s 106ms/step\n",
            "1/1 [==============================] - 0s 78ms/step\n",
            "1/1 [==============================] - 0s 45ms/step\n"
          ]
        },
        {
          "output_type": "execute_result",
          "data": {
            "text/plain": [
              "<matplotlib.image.AxesImage at 0x7e94de9c7250>"
            ]
          },
          "metadata": {},
          "execution_count": 36
        },
        {
          "output_type": "display_data",
          "data": {
            "text/plain": [
              "<Figure size 640x480 with 9 Axes>"
            ],
            "image/png": "[encoded data removed]"
          },
          "metadata": {}
        }
      ]
    }
  ],
  "metadata": {
    "colab": {
      "provenance": []
    },
    "kernelspec": {
      "display_name": "Python 3",
      "name": "python3"
    },
    "language_info": {
      "name": "python"
    }
  },
  "nbformat": 4,
  "nbformat_minor": 0
}