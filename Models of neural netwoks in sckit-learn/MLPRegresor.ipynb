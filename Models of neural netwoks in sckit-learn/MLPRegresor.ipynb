{
  "cells": [
    {
      "cell_type": "code",
      "execution_count": 9,
      "metadata": {
        "id": "dgNDsOaXDOgZ"
      },
      "outputs": [],
      "source": [
        "#We load the libraries to use.\n",
        "from sklearn.neural_network import MLPRegressor\n",
        "from sklearn.datasets import fetch_california_housing\n",
        "from sklearn.model_selection import train_test_split\n",
        "from sklearn.preprocessing  import StandardScaler\n",
        "from sklearn.metrics import mean_squared_error"
      ]
    },
    {
      "cell_type": "code",
      "execution_count": 11,
      "metadata": {
        "id": "utTpzFI_DOgc"
      },
      "outputs": [],
      "source": [
        "#Load the California Housing dataset\n",
        "housing = fetch_california_housing()\n",
        "X, y = housing.data, housing.target\n"
      ]
    },
    {
      "cell_type": "code",
      "source": [
        "#Exploring the data (optional)\n",
        "type(housing)\n",
        "housing.keys()\n",
        "housing['data']\n",
        "housing['target']\n",
        "housing['target_names']\n",
        "housing['DESCR']\n",
        "housing['feature_names']\n"
      ],
      "metadata": {
        "colab": {
          "base_uri": "https://localhost:8080/"
        },
        "id": "fkouSvnBK_Uu",
        "outputId": "c7bedfb3-6bf2-44d0-8f6c-6f78b2056ea2"
      },
      "execution_count": 13,
      "outputs": [
        {
          "output_type": "execute_result",
          "data": {
            "text/plain": [
              "['MedInc',\n",
              " 'HouseAge',\n",
              " 'AveRooms',\n",
              " 'AveBedrms',\n",
              " 'Population',\n",
              " 'AveOccup',\n",
              " 'Latitude',\n",
              " 'Longitude']"
            ]
          },
          "metadata": {},
          "execution_count": 13
        }
      ]
    },
    {
      "cell_type": "code",
      "source": [
        "#Split data into training and test set\n",
        "X_train, X_test, y_train, y_test = train_test_split(X, y, test_size = 0.2, random_state = 42)"
      ],
      "metadata": {
        "id": "fUZdPCH6LB0G"
      },
      "execution_count": 14,
      "outputs": []
    },
    {
      "cell_type": "code",
      "source": [
        "#Scaling features for better model performance\n",
        "scaler = StandardScaler()\n",
        "X_train_scaled = scaler.fit_transform(X_train)\n",
        "X_test_scaled= scaler.transform(X_test)"
      ],
      "metadata": {
        "id": "xac-fNsyLEGt"
      },
      "execution_count": null,
      "outputs": []
    },
    {
      "cell_type": "code",
      "source": [
        "# We create an instance of MLPRegressor with a hidden layer of\n",
        "#100 neurons, ReLU activation function, algorithm\n",
        "# 'adam' optimization and a maximum of 100 iterations\n",
        "mlp_reg = MLPRegressor(hidden_layer_sizes = (100),\n",
        "                        activation = 'relu',\n",
        "                        solver = 'adam',\n",
        "                        max_iter = 100,\n",
        "                        random_state = 42,\n",
        "                        verbose = True)"
      ],
      "metadata": {
        "id": "Shufp2zkLGH-"
      },
      "execution_count": 17,
      "outputs": []
    },
    {
      "cell_type": "code",
      "source": [
        "#Train the model\n",
        "mlp_reg.fit(X_train_scaled, y_train)"
      ],
      "metadata": {
        "colab": {
          "base_uri": "https://localhost:8080/",
          "height": 1000
        },
        "id": "Er21FrcXLJMm",
        "outputId": "80d20513-0682-4e9a-a665-e5a379f7905f"
      },
      "execution_count": 18,
      "outputs": [
        {
          "output_type": "stream",
          "name": "stdout",
          "text": [
            "Iteration 1, loss = 1.62056447\n",
            "Iteration 2, loss = 0.43678846\n",
            "Iteration 3, loss = 0.32700527\n",
            "Iteration 4, loss = 0.28069940\n",
            "Iteration 5, loss = 0.24814135\n",
            "Iteration 6, loss = 0.22803342\n",
            "Iteration 7, loss = 0.21538976\n",
            "Iteration 8, loss = 0.20787968\n",
            "Iteration 9, loss = 0.20154389\n",
            "Iteration 10, loss = 0.19743378\n",
            "Iteration 11, loss = 0.19321222\n",
            "Iteration 12, loss = 0.18961729\n",
            "Iteration 13, loss = 0.18678600\n",
            "Iteration 14, loss = 0.18383630\n",
            "Iteration 15, loss = 0.18157601\n",
            "Iteration 16, loss = 0.17968086\n",
            "Iteration 17, loss = 0.17775103\n",
            "Iteration 18, loss = 0.17538371\n",
            "Iteration 19, loss = 0.17423819\n",
            "Iteration 20, loss = 0.17407294\n",
            "Iteration 21, loss = 0.17085613\n",
            "Iteration 22, loss = 0.16995187\n",
            "Iteration 23, loss = 0.16823352\n",
            "Iteration 24, loss = 0.16798530\n",
            "Iteration 25, loss = 0.16717835\n",
            "Iteration 26, loss = 0.16566984\n",
            "Iteration 27, loss = 0.16730781\n",
            "Iteration 28, loss = 0.16499618\n",
            "Iteration 29, loss = 0.16261953\n",
            "Iteration 30, loss = 0.16145474\n",
            "Iteration 31, loss = 0.16053131\n",
            "Iteration 32, loss = 0.16002333\n",
            "Iteration 33, loss = 0.16125255\n",
            "Iteration 34, loss = 0.15863582\n",
            "Iteration 35, loss = 0.15835131\n",
            "Iteration 36, loss = 0.15795060\n",
            "Iteration 37, loss = 0.15703766\n",
            "Iteration 38, loss = 0.15707574\n",
            "Iteration 39, loss = 0.15768516\n",
            "Iteration 40, loss = 0.15525691\n",
            "Iteration 41, loss = 0.15632172\n",
            "Iteration 42, loss = 0.15467901\n",
            "Iteration 43, loss = 0.15438915\n",
            "Iteration 44, loss = 0.15556876\n",
            "Iteration 45, loss = 0.15329744\n",
            "Iteration 46, loss = 0.15273177\n",
            "Iteration 47, loss = 0.15307344\n",
            "Iteration 48, loss = 0.15369159\n",
            "Iteration 49, loss = 0.15240098\n",
            "Iteration 50, loss = 0.15143071\n",
            "Iteration 51, loss = 0.15112755\n",
            "Iteration 52, loss = 0.15083169\n",
            "Iteration 53, loss = 0.15061975\n",
            "Iteration 54, loss = 0.17536085\n",
            "Iteration 55, loss = 0.15573187\n",
            "Iteration 56, loss = 0.15049969\n",
            "Iteration 57, loss = 0.14988656\n",
            "Iteration 58, loss = 0.15022315\n",
            "Iteration 59, loss = 0.14961153\n",
            "Iteration 60, loss = 0.14848394\n",
            "Iteration 61, loss = 0.14950369\n",
            "Iteration 62, loss = 0.14843954\n",
            "Iteration 63, loss = 0.14811978\n",
            "Iteration 64, loss = 0.14766317\n",
            "Iteration 65, loss = 0.14793107\n",
            "Iteration 66, loss = 0.14733359\n",
            "Iteration 67, loss = 0.14800560\n",
            "Iteration 68, loss = 0.14665149\n",
            "Iteration 69, loss = 0.14686777\n",
            "Iteration 70, loss = 0.14665771\n",
            "Iteration 71, loss = 0.14612037\n",
            "Iteration 72, loss = 0.14639346\n",
            "Iteration 73, loss = 0.14671723\n",
            "Iteration 74, loss = 0.14576906\n",
            "Iteration 75, loss = 0.15060883\n",
            "Iteration 76, loss = 0.14555955\n",
            "Iteration 77, loss = 0.14514246\n",
            "Iteration 78, loss = 0.14553115\n",
            "Iteration 79, loss = 0.14643439\n",
            "Iteration 80, loss = 0.14501085\n",
            "Iteration 81, loss = 0.14468993\n",
            "Iteration 82, loss = 0.14489975\n",
            "Iteration 83, loss = 0.14516740\n",
            "Iteration 84, loss = 0.14435448\n",
            "Iteration 85, loss = 0.14397719\n",
            "Iteration 86, loss = 0.14633622\n",
            "Iteration 87, loss = 0.14389402\n",
            "Iteration 88, loss = 0.14379916\n",
            "Iteration 89, loss = 0.14337806\n",
            "Iteration 90, loss = 0.14402555\n",
            "Iteration 91, loss = 0.14472118\n",
            "Iteration 92, loss = 0.14661691\n",
            "Iteration 93, loss = 0.15462744\n",
            "Iteration 94, loss = 0.14386535\n",
            "Iteration 95, loss = 0.14275879\n",
            "Iteration 96, loss = 0.14295641\n",
            "Iteration 97, loss = 0.14219076\n",
            "Iteration 98, loss = 0.14180756\n",
            "Iteration 99, loss = 0.14206889\n",
            "Iteration 100, loss = 0.14286992\n"
          ]
        },
        {
          "output_type": "stream",
          "name": "stderr",
          "text": [
            "/usr/local/lib/python3.10/dist-packages/sklearn/neural_network/_multilayer_perceptron.py:686: ConvergenceWarning: Stochastic Optimizer: Maximum iterations (100) reached and the optimization hasn't converged yet.\n",
            "  warnings.warn(\n"
          ]
        },
        {
          "output_type": "execute_result",
          "data": {
            "text/plain": [
              "MLPRegressor(hidden_layer_sizes=100, max_iter=100, random_state=42,\n",
              "             verbose=True)"
            ],
            "text/html": [
              "<style>#sk-container-id-1 {color: black;background-color: white;}#sk-container-id-1 pre{padding: 0;}#sk-container-id-1 div.sk-toggleable {background-color: white;}#sk-container-id-1 label.sk-toggleable__label {cursor: pointer;display: block;width: 100%;margin-bottom: 0;padding: 0.3em;box-sizing: border-box;text-align: center;}#sk-container-id-1 label.sk-toggleable__label-arrow:before {content: \"▸\";float: left;margin-right: 0.25em;color: #696969;}#sk-container-id-1 label.sk-toggleable__label-arrow:hover:before {color: black;}#sk-container-id-1 div.sk-estimator:hover label.sk-toggleable__label-arrow:before {color: black;}#sk-container-id-1 div.sk-toggleable__content {max-height: 0;max-width: 0;overflow: hidden;text-align: left;background-color: #f0f8ff;}#sk-container-id-1 div.sk-toggleable__content pre {margin: 0.2em;color: black;border-radius: 0.25em;background-color: #f0f8ff;}#sk-container-id-1 input.sk-toggleable__control:checked~div.sk-toggleable__content {max-height: 200px;max-width: 100%;overflow: auto;}#sk-container-id-1 input.sk-toggleable__control:checked~label.sk-toggleable__label-arrow:before {content: \"▾\";}#sk-container-id-1 div.sk-estimator input.sk-toggleable__control:checked~label.sk-toggleable__label {background-color: #d4ebff;}#sk-container-id-1 div.sk-label input.sk-toggleable__control:checked~label.sk-toggleable__label {background-color: #d4ebff;}#sk-container-id-1 input.sk-hidden--visually {border: 0;clip: rect(1px 1px 1px 1px);clip: rect(1px, 1px, 1px, 1px);height: 1px;margin: -1px;overflow: hidden;padding: 0;position: absolute;width: 1px;}#sk-container-id-1 div.sk-estimator {font-family: monospace;background-color: #f0f8ff;border: 1px dotted black;border-radius: 0.25em;box-sizing: border-box;margin-bottom: 0.5em;}#sk-container-id-1 div.sk-estimator:hover {background-color: #d4ebff;}#sk-container-id-1 div.sk-parallel-item::after {content: \"\";width: 100%;border-bottom: 1px solid gray;flex-grow: 1;}#sk-container-id-1 div.sk-label:hover label.sk-toggleable__label {background-color: #d4ebff;}#sk-container-id-1 div.sk-serial::before {content: \"\";position: absolute;border-left: 1px solid gray;box-sizing: border-box;top: 0;bottom: 0;left: 50%;z-index: 0;}#sk-container-id-1 div.sk-serial {display: flex;flex-direction: column;align-items: center;background-color: white;padding-right: 0.2em;padding-left: 0.2em;position: relative;}#sk-container-id-1 div.sk-item {position: relative;z-index: 1;}#sk-container-id-1 div.sk-parallel {display: flex;align-items: stretch;justify-content: center;background-color: white;position: relative;}#sk-container-id-1 div.sk-item::before, #sk-container-id-1 div.sk-parallel-item::before {content: \"\";position: absolute;border-left: 1px solid gray;box-sizing: border-box;top: 0;bottom: 0;left: 50%;z-index: -1;}#sk-container-id-1 div.sk-parallel-item {display: flex;flex-direction: column;z-index: 1;position: relative;background-color: white;}#sk-container-id-1 div.sk-parallel-item:first-child::after {align-self: flex-end;width: 50%;}#sk-container-id-1 div.sk-parallel-item:last-child::after {align-self: flex-start;width: 50%;}#sk-container-id-1 div.sk-parallel-item:only-child::after {width: 0;}#sk-container-id-1 div.sk-dashed-wrapped {border: 1px dashed gray;margin: 0 0.4em 0.5em 0.4em;box-sizing: border-box;padding-bottom: 0.4em;background-color: white;}#sk-container-id-1 div.sk-label label {font-family: monospace;font-weight: bold;display: inline-block;line-height: 1.2em;}#sk-container-id-1 div.sk-label-container {text-align: center;}#sk-container-id-1 div.sk-container {/* jupyter's `normalize.less` sets `[hidden] { display: none; }` but bootstrap.min.css set `[hidden] { display: none !important; }` so we also need the `!important` here to be able to override the default hidden behavior on the sphinx rendered scikit-learn.org. See: https://github.com/scikit-learn/scikit-learn/issues/21755 */display: inline-block !important;position: relative;}#sk-container-id-1 div.sk-text-repr-fallback {display: none;}</style><div id=\"sk-container-id-1\" class=\"sk-top-container\"><div class=\"sk-text-repr-fallback\"><pre>MLPRegressor(hidden_layer_sizes=100, max_iter=100, random_state=42,\n",
              "             verbose=True)</pre><b>In a Jupyter environment, please rerun this cell to show the HTML representation or trust the notebook. <br />On GitHub, the HTML representation is unable to render, please try loading this page with nbviewer.org.</b></div><div class=\"sk-container\" hidden><div class=\"sk-item\"><div class=\"sk-estimator sk-toggleable\"><input class=\"sk-toggleable__control sk-hidden--visually\" id=\"sk-estimator-id-1\" type=\"checkbox\" checked><label for=\"sk-estimator-id-1\" class=\"sk-toggleable__label sk-toggleable__label-arrow\">MLPRegressor</label><div class=\"sk-toggleable__content\"><pre>MLPRegressor(hidden_layer_sizes=100, max_iter=100, random_state=42,\n",
              "             verbose=True)</pre></div></div></div></div></div>"
            ]
          },
          "metadata": {},
          "execution_count": 18
        }
      ]
    },
    {
      "cell_type": "code",
      "source": [
        "#Make predictions on the test set\n",
        "y_pred = mlp_reg.predict(X_test_scaled)"
      ],
      "metadata": {
        "id": "2JiebwCNLKxe"
      },
      "execution_count": 19,
      "outputs": []
    },
    {
      "cell_type": "code",
      "source": [
        "#Calculate the mean square error of the model\n",
        "mse = mean_squared_error(y_test, y_pred)\n",
        "print(f'Error cuadrático medio {mse}')"
      ],
      "metadata": {
        "colab": {
          "base_uri": "https://localhost:8080/"
        },
        "id": "ShNrtatQLNRP",
        "outputId": "37169c87-8853-41a2-b6e0-fe969d790e31"
      },
      "execution_count": 20,
      "outputs": [
        {
          "output_type": "stream",
          "name": "stdout",
          "text": [
            "Error cuadrático medio 0.32870115322611493\n"
          ]
        }
      ]
    },
    {
      "cell_type": "markdown",
      "source": [
        "**Basic example of how to implement a network neural regression using MLPRegressor scikit-learn**\n",
        "\n",
        "you can adjust many others MLPRegressor hyperparameters to optimize the performance of the model based on the specific data set. Additionally, you can also explore other trigger functions, solvers, and architectures. hidden layers to tailor the model to your specific regression needs."
      ],
      "metadata": {
        "id": "ajU6HgxdLjDC"
      }
    }
  ],
  "metadata": {
    "kernelspec": {
      "display_name": "Python 3",
      "language": "python",
      "name": "python3"
    },
    "language_info": {
      "codemirror_mode": {
        "name": "ipython",
        "version": 3
      },
      "file_extension": ".py",
      "mimetype": "text/x-python",
      "name": "python",
      "nbconvert_exporter": "python",
      "pygments_lexer": "ipython3",
      "version": "3.12.0"
    },
    "colab": {
      "provenance": []
    }
  },
  "nbformat": 4,
  "nbformat_minor": 0
}