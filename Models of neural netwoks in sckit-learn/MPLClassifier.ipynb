{
  "cells": [
    {
      "cell_type": "markdown",
      "metadata": {
        "id": "cP9Pe9OSL_Dq"
      },
      "source": [
        " Example of how to implement a neural network to classification with (MLPClassifier) ​​using Sklearn"
      ]
    },
    {
      "cell_type": "code",
      "execution_count": 1,
      "metadata": {
        "id": "1UZE41Y3L_Dr"
      },
      "outputs": [],
      "source": [
        "#We load the libraries to use.\n",
        "from sklearn.neural_network import MLPClassifier\n",
        "from sklearn.datasets import load_iris\n",
        "from sklearn.model_selection import train_test_split\n",
        "from sklearn.preprocessing  import StandardScaler\n",
        "from sklearn.metrics import accuracy_score"
      ]
    },
    {
      "cell_type": "code",
      "execution_count": 2,
      "metadata": {
        "id": "R4_VlDHML_Ds"
      },
      "outputs": [],
      "source": [
        "#Load the iris data set\n",
        "iris = load_iris()\n",
        "X, y = iris.data, iris.target"
      ]
    },
    {
      "cell_type": "code",
      "execution_count": 3,
      "metadata": {
        "colab": {
          "base_uri": "https://localhost:8080/"
        },
        "id": "8_bN2QbxL_Ds",
        "outputId": "851d72b1-22d7-4c30-d062-6a76178f882d"
      },
      "outputs": [
        {
          "output_type": "execute_result",
          "data": {
            "text/plain": [
              "['sepal length (cm)',\n",
              " 'sepal width (cm)',\n",
              " 'petal length (cm)',\n",
              " 'petal width (cm)']"
            ]
          },
          "metadata": {},
          "execution_count": 3
        }
      ],
      "source": [
        "#Exploring the data\n",
        "type(iris)\n",
        "iris.keys()\n",
        "iris['data']\n",
        "iris['target']\n",
        "iris['target_names']\n",
        "iris['DESCR']\n",
        "iris['feature_names']"
      ]
    },
    {
      "cell_type": "code",
      "execution_count": 4,
      "metadata": {
        "id": "kAdYFuykL_Ds"
      },
      "outputs": [],
      "source": [
        "#Split the data into training and test sets\n",
        "X_train, X_test, y_train, y_test = train_test_split(X, y, test_size = 0.2, random_state = 42)"
      ]
    },
    {
      "cell_type": "code",
      "execution_count": 6,
      "metadata": {
        "id": "s8oAeztLL_Ds"
      },
      "outputs": [],
      "source": [
        "#Scaling features for better model performance\n",
        "scaler = StandardScaler()\n",
        "X_train_scaled = scaler.fit_transform(X_train)\n",
        "X_test_scaled = scaler.transform(X_test)"
      ]
    },
    {
      "cell_type": "code",
      "execution_count": 7,
      "metadata": {
        "id": "VTGvTOWmL_Ds"
      },
      "outputs": [],
      "source": [
        "#Create an instance of MLPClassifier with a hidden layer of 100\n",
        "# neurons, ReLU activation function, optimization algorithm\n",
        "# 'adam' and a maximum of 500 iterations.\n",
        "mlp_clf = MLPClassifier(hidden_layer_sizes = (100),\n",
        "                        activation = 'relu',\n",
        "                        solver = 'adam',\n",
        "                        max_iter = 100,\n",
        "                        random_state = 42,\n",
        "                        verbose = True)"
      ]
    },
    {
      "cell_type": "code",
      "execution_count": 8,
      "metadata": {
        "colab": {
          "base_uri": "https://localhost:8080/",
          "height": 1000
        },
        "id": "N8SQFnvBL_Dt",
        "outputId": "af5e1c6e-9fab-48c3-dc5f-08114942901c"
      },
      "outputs": [
        {
          "output_type": "stream",
          "name": "stdout",
          "text": [
            "Iteration 1, loss = 1.16374923\n",
            "Iteration 2, loss = 1.14090611\n",
            "Iteration 3, loss = 1.11857816\n",
            "Iteration 4, loss = 1.09677375\n",
            "Iteration 5, loss = 1.07547149\n",
            "Iteration 6, loss = 1.05468504\n",
            "Iteration 7, loss = 1.03440573\n",
            "Iteration 8, loss = 1.01462373\n",
            "Iteration 9, loss = 0.99535820\n",
            "Iteration 10, loss = 0.97658926\n",
            "Iteration 11, loss = 0.95833257\n",
            "Iteration 12, loss = 0.94053852\n",
            "Iteration 13, loss = 0.92322169\n",
            "Iteration 14, loss = 0.90638373\n",
            "Iteration 15, loss = 0.89000670\n",
            "Iteration 16, loss = 0.87408395\n",
            "Iteration 17, loss = 0.85861030\n",
            "Iteration 18, loss = 0.84357120\n",
            "Iteration 19, loss = 0.82895431\n",
            "Iteration 20, loss = 0.81476466\n",
            "Iteration 21, loss = 0.80097410\n",
            "Iteration 22, loss = 0.78759157\n",
            "Iteration 23, loss = 0.77460302\n",
            "Iteration 24, loss = 0.76199129\n",
            "Iteration 25, loss = 0.74975377\n",
            "Iteration 26, loss = 0.73786826\n",
            "Iteration 27, loss = 0.72632581\n",
            "Iteration 28, loss = 0.71511871\n",
            "Iteration 29, loss = 0.70424319\n",
            "Iteration 30, loss = 0.69368183\n",
            "Iteration 31, loss = 0.68342580\n",
            "Iteration 32, loss = 0.67346953\n",
            "Iteration 33, loss = 0.66380608\n",
            "Iteration 34, loss = 0.65442161\n",
            "Iteration 35, loss = 0.64531278\n",
            "Iteration 36, loss = 0.63647902\n",
            "Iteration 37, loss = 0.62790342\n",
            "Iteration 38, loss = 0.61957863\n",
            "Iteration 39, loss = 0.61148527\n",
            "Iteration 40, loss = 0.60361466\n",
            "Iteration 41, loss = 0.59597076\n",
            "Iteration 42, loss = 0.58855743\n",
            "Iteration 43, loss = 0.58136358\n",
            "Iteration 44, loss = 0.57437150\n",
            "Iteration 45, loss = 0.56758016\n",
            "Iteration 46, loss = 0.56097952\n",
            "Iteration 47, loss = 0.55455113\n",
            "Iteration 48, loss = 0.54829175\n",
            "Iteration 49, loss = 0.54219766\n",
            "Iteration 50, loss = 0.53626159\n",
            "Iteration 51, loss = 0.53048210\n",
            "Iteration 52, loss = 0.52484566\n",
            "Iteration 53, loss = 0.51933866\n",
            "Iteration 54, loss = 0.51394846\n",
            "Iteration 55, loss = 0.50869354\n",
            "Iteration 56, loss = 0.50356710\n",
            "Iteration 57, loss = 0.49857160\n",
            "Iteration 58, loss = 0.49370008\n",
            "Iteration 59, loss = 0.48894487\n",
            "Iteration 60, loss = 0.48429908\n",
            "Iteration 61, loss = 0.47974886\n",
            "Iteration 62, loss = 0.47529331\n",
            "Iteration 63, loss = 0.47093384\n",
            "Iteration 64, loss = 0.46667067\n",
            "Iteration 65, loss = 0.46249978\n",
            "Iteration 66, loss = 0.45841914\n",
            "Iteration 67, loss = 0.45442291\n",
            "Iteration 68, loss = 0.45050855\n",
            "Iteration 69, loss = 0.44667746\n",
            "Iteration 70, loss = 0.44292801\n",
            "Iteration 71, loss = 0.43926405\n",
            "Iteration 72, loss = 0.43567120\n",
            "Iteration 73, loss = 0.43215951\n",
            "Iteration 74, loss = 0.42871948\n",
            "Iteration 75, loss = 0.42534205\n",
            "Iteration 76, loss = 0.42201917\n",
            "Iteration 77, loss = 0.41875279\n",
            "Iteration 78, loss = 0.41554234\n",
            "Iteration 79, loss = 0.41238463\n",
            "Iteration 80, loss = 0.40928512\n",
            "Iteration 81, loss = 0.40623752\n",
            "Iteration 82, loss = 0.40323632\n",
            "Iteration 83, loss = 0.40027444\n",
            "Iteration 84, loss = 0.39735268\n",
            "Iteration 85, loss = 0.39447038\n",
            "Iteration 86, loss = 0.39162936\n",
            "Iteration 87, loss = 0.38882549\n",
            "Iteration 88, loss = 0.38605547\n",
            "Iteration 89, loss = 0.38331954\n",
            "Iteration 90, loss = 0.38062197\n",
            "Iteration 91, loss = 0.37796519\n",
            "Iteration 92, loss = 0.37534717\n",
            "Iteration 93, loss = 0.37276083\n",
            "Iteration 94, loss = 0.37020149\n",
            "Iteration 95, loss = 0.36766960\n",
            "Iteration 96, loss = 0.36516474\n",
            "Iteration 97, loss = 0.36267665\n",
            "Iteration 98, loss = 0.36021595\n",
            "Iteration 99, loss = 0.35777846\n",
            "Iteration 100, loss = 0.35536449\n"
          ]
        },
        {
          "output_type": "stream",
          "name": "stderr",
          "text": [
            "/usr/local/lib/python3.10/dist-packages/sklearn/neural_network/_multilayer_perceptron.py:686: ConvergenceWarning: Stochastic Optimizer: Maximum iterations (100) reached and the optimization hasn't converged yet.\n",
            "  warnings.warn(\n"
          ]
        },
        {
          "output_type": "execute_result",
          "data": {
            "text/plain": [
              "MLPClassifier(hidden_layer_sizes=100, max_iter=100, random_state=42,\n",
              "              verbose=True)"
            ],
            "text/html": [
              "<style>#sk-container-id-1 {color: black;background-color: white;}#sk-container-id-1 pre{padding: 0;}#sk-container-id-1 div.sk-toggleable {background-color: white;}#sk-container-id-1 label.sk-toggleable__label {cursor: pointer;display: block;width: 100%;margin-bottom: 0;padding: 0.3em;box-sizing: border-box;text-align: center;}#sk-container-id-1 label.sk-toggleable__label-arrow:before {content: \"▸\";float: left;margin-right: 0.25em;color: #696969;}#sk-container-id-1 label.sk-toggleable__label-arrow:hover:before {color: black;}#sk-container-id-1 div.sk-estimator:hover label.sk-toggleable__label-arrow:before {color: black;}#sk-container-id-1 div.sk-toggleable__content {max-height: 0;max-width: 0;overflow: hidden;text-align: left;background-color: #f0f8ff;}#sk-container-id-1 div.sk-toggleable__content pre {margin: 0.2em;color: black;border-radius: 0.25em;background-color: #f0f8ff;}#sk-container-id-1 input.sk-toggleable__control:checked~div.sk-toggleable__content {max-height: 200px;max-width: 100%;overflow: auto;}#sk-container-id-1 input.sk-toggleable__control:checked~label.sk-toggleable__label-arrow:before {content: \"▾\";}#sk-container-id-1 div.sk-estimator input.sk-toggleable__control:checked~label.sk-toggleable__label {background-color: #d4ebff;}#sk-container-id-1 div.sk-label input.sk-toggleable__control:checked~label.sk-toggleable__label {background-color: #d4ebff;}#sk-container-id-1 input.sk-hidden--visually {border: 0;clip: rect(1px 1px 1px 1px);clip: rect(1px, 1px, 1px, 1px);height: 1px;margin: -1px;overflow: hidden;padding: 0;position: absolute;width: 1px;}#sk-container-id-1 div.sk-estimator {font-family: monospace;background-color: #f0f8ff;border: 1px dotted black;border-radius: 0.25em;box-sizing: border-box;margin-bottom: 0.5em;}#sk-container-id-1 div.sk-estimator:hover {background-color: #d4ebff;}#sk-container-id-1 div.sk-parallel-item::after {content: \"\";width: 100%;border-bottom: 1px solid gray;flex-grow: 1;}#sk-container-id-1 div.sk-label:hover label.sk-toggleable__label {background-color: #d4ebff;}#sk-container-id-1 div.sk-serial::before {content: \"\";position: absolute;border-left: 1px solid gray;box-sizing: border-box;top: 0;bottom: 0;left: 50%;z-index: 0;}#sk-container-id-1 div.sk-serial {display: flex;flex-direction: column;align-items: center;background-color: white;padding-right: 0.2em;padding-left: 0.2em;position: relative;}#sk-container-id-1 div.sk-item {position: relative;z-index: 1;}#sk-container-id-1 div.sk-parallel {display: flex;align-items: stretch;justify-content: center;background-color: white;position: relative;}#sk-container-id-1 div.sk-item::before, #sk-container-id-1 div.sk-parallel-item::before {content: \"\";position: absolute;border-left: 1px solid gray;box-sizing: border-box;top: 0;bottom: 0;left: 50%;z-index: -1;}#sk-container-id-1 div.sk-parallel-item {display: flex;flex-direction: column;z-index: 1;position: relative;background-color: white;}#sk-container-id-1 div.sk-parallel-item:first-child::after {align-self: flex-end;width: 50%;}#sk-container-id-1 div.sk-parallel-item:last-child::after {align-self: flex-start;width: 50%;}#sk-container-id-1 div.sk-parallel-item:only-child::after {width: 0;}#sk-container-id-1 div.sk-dashed-wrapped {border: 1px dashed gray;margin: 0 0.4em 0.5em 0.4em;box-sizing: border-box;padding-bottom: 0.4em;background-color: white;}#sk-container-id-1 div.sk-label label {font-family: monospace;font-weight: bold;display: inline-block;line-height: 1.2em;}#sk-container-id-1 div.sk-label-container {text-align: center;}#sk-container-id-1 div.sk-container {/* jupyter's `normalize.less` sets `[hidden] { display: none; }` but bootstrap.min.css set `[hidden] { display: none !important; }` so we also need the `!important` here to be able to override the default hidden behavior on the sphinx rendered scikit-learn.org. See: https://github.com/scikit-learn/scikit-learn/issues/21755 */display: inline-block !important;position: relative;}#sk-container-id-1 div.sk-text-repr-fallback {display: none;}</style><div id=\"sk-container-id-1\" class=\"sk-top-container\"><div class=\"sk-text-repr-fallback\"><pre>MLPClassifier(hidden_layer_sizes=100, max_iter=100, random_state=42,\n",
              "              verbose=True)</pre><b>In a Jupyter environment, please rerun this cell to show the HTML representation or trust the notebook. <br />On GitHub, the HTML representation is unable to render, please try loading this page with nbviewer.org.</b></div><div class=\"sk-container\" hidden><div class=\"sk-item\"><div class=\"sk-estimator sk-toggleable\"><input class=\"sk-toggleable__control sk-hidden--visually\" id=\"sk-estimator-id-1\" type=\"checkbox\" checked><label for=\"sk-estimator-id-1\" class=\"sk-toggleable__label sk-toggleable__label-arrow\">MLPClassifier</label><div class=\"sk-toggleable__content\"><pre>MLPClassifier(hidden_layer_sizes=100, max_iter=100, random_state=42,\n",
              "              verbose=True)</pre></div></div></div></div></div>"
            ]
          },
          "metadata": {},
          "execution_count": 8
        }
      ],
      "source": [
        "#We train the model using the scaled training data\n",
        "mlp_clf.fit(X_train_scaled, y_train)"
      ]
    },
    {
      "cell_type": "code",
      "execution_count": 9,
      "metadata": {
        "colab": {
          "base_uri": "https://localhost:8080/"
        },
        "id": "lvUs9XBvL_Dt",
        "outputId": "adf0c2cd-4813-4382-e396-9c3bc2ae4215"
      },
      "outputs": [
        {
          "output_type": "stream",
          "name": "stdout",
          "text": [
            "[1 0 2 1 1 0 1 2 1 1 2 0 0 0 0 1 2 1 1 2 0 2 0 2 2 2 2 2 0 0]\n",
            "[1 0 2 1 2 0 1 2 1 1 2 0 0 0 0 2 2 1 1 2 0 2 0 2 2 2 2 2 0 0]\n"
          ]
        }
      ],
      "source": [
        "#Make predictions on the test set\n",
        "y_pred = mlp_clf.predict(X_test_scaled)\n",
        "print(y_test)\n",
        "print(y_pred)"
      ]
    },
    {
      "cell_type": "code",
      "execution_count": 10,
      "metadata": {
        "colab": {
          "base_uri": "https://localhost:8080/"
        },
        "id": "XgTmoogsL_Dt",
        "outputId": "f04c9846-dff9-4843-88ae-75be3ce597d9"
      },
      "outputs": [
        {
          "output_type": "stream",
          "name": "stdout",
          "text": [
            "presicion del modelo:0.9333333333333333\n"
          ]
        }
      ],
      "source": [
        "#Calculate model accuracy\n",
        "accuracy = accuracy_score(y_test,y_pred)\n",
        "print(f'presicion del modelo:{accuracy}' )"
      ]
    },
    {
      "cell_type": "markdown",
      "source": [
        "The above is a basic example and many others can be adjusted **MLPClassifier** hyperparameters to optimize the performance of the model based on the specific data set. Additionally, you can also explore other activation functions, solvers, and architectures hidden layers to adapt the model to your specific needs"
      ],
      "metadata": {
        "id": "CVdiIdhGMPH_"
      }
    }
  ],
  "metadata": {
    "language_info": {
      "name": "python"
    },
    "colab": {
      "provenance": []
    },
    "kernelspec": {
      "name": "python3",
      "display_name": "Python 3"
    }
  },
  "nbformat": 4,
  "nbformat_minor": 0
}