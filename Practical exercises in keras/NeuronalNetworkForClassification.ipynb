{
  "cells": [
    {
      "cell_type": "markdown",
      "source": [
        "#**Practical exercise implementing a neural network for classification using Kera**"
      ],
      "metadata": {
        "id": "VBQAlBzoPifd"
      }
    },
    {
      "cell_type": "code",
      "execution_count": 2,
      "metadata": {
        "id": "hdZvAKbMPdhu"
      },
      "outputs": [],
      "source": [
        "#Import libraries\n",
        "\n",
        "import keras\n",
        "from sklearn.datasets import make_classification\n",
        "from sklearn.model_selection import train_test_split"
      ]
    },
    {
      "cell_type": "code",
      "execution_count": 6,
      "metadata": {
        "id": "T8Jwi1ifPdhx"
      },
      "outputs": [],
      "source": [
        "#Generate a synthetic classification data set\n",
        "X, y = make_classification(n_samples = 100, n_features=5, n_classes = 2)"
      ]
    },
    {
      "cell_type": "code",
      "execution_count": 8,
      "metadata": {
        "id": "iXuF8dAcPdhz"
      },
      "outputs": [],
      "source": [
        "#Split the data into training and test set\n",
        "X_train, X_test, y_train, y_test = train_test_split(X, y, test_size=0.2)"
      ]
    },
    {
      "cell_type": "code",
      "execution_count": 10,
      "metadata": {
        "id": "bBtuJu7FPdhz"
      },
      "outputs": [],
      "source": [
        "#Convert labels to one-hot encoding\n",
        "y_train_categorical = keras.utils.to_categorical(y_train)\n",
        "y_test_categorical = keras.utils.to_categorical(y_test)"
      ]
    },
    {
      "cell_type": "code",
      "source": [
        "model = keras.models.Sequential()"
      ],
      "metadata": {
        "id": "Oi2d6TpVRSrk"
      },
      "execution_count": 12,
      "outputs": []
    },
    {
      "cell_type": "code",
      "execution_count": 13,
      "metadata": {
        "id": "bxTXM87WPdhz"
      },
      "outputs": [],
      "source": [
        "#Add a hidden layer with 10 neurons and RelU activation\n",
        "model.add(keras.layers.Dense(10,\n",
        "input_shape = (X_train.shape[1],), activation='relu'))\n",
        "#Add an output layer with two neurons, one for each class, and softmax activation\n",
        "model.add(keras.layers.Dense(2, activation='softmax'))"
      ]
    },
    {
      "cell_type": "code",
      "source": [
        "#Compile model\n",
        "model.compile(optimizer = 'adam',\n",
        "              loss = 'categorical_crossentropy', metrics = ['accuracy'])"
      ],
      "metadata": {
        "id": "VyDoXXMzRlt8"
      },
      "execution_count": 15,
      "outputs": []
    },
    {
      "cell_type": "code",
      "execution_count": 17,
      "metadata": {
        "colab": {
          "base_uri": "https://localhost:8080/"
        },
        "id": "irCrsHnpPdhz",
        "outputId": "3ef10bba-2dd5-4b59-dac1-dd355dbe20a9"
      },
      "outputs": [
        {
          "output_type": "stream",
          "name": "stdout",
          "text": [
            "Epoch 1/10\n",
            "3/3 [==============================] - 1s 130ms/step - loss: 0.7825 - accuracy: 0.5250 - val_loss: 0.6303 - val_accuracy: 0.6500\n",
            "Epoch 2/10\n",
            "3/3 [==============================] - 0s 29ms/step - loss: 0.7659 - accuracy: 0.5500 - val_loss: 0.6240 - val_accuracy: 0.6500\n",
            "Epoch 3/10\n",
            "3/3 [==============================] - 0s 19ms/step - loss: 0.7516 - accuracy: 0.5625 - val_loss: 0.6176 - val_accuracy: 0.6500\n",
            "Epoch 4/10\n",
            "3/3 [==============================] - 0s 18ms/step - loss: 0.7375 - accuracy: 0.5750 - val_loss: 0.6113 - val_accuracy: 0.7000\n",
            "Epoch 5/10\n",
            "3/3 [==============================] - 0s 18ms/step - loss: 0.7266 - accuracy: 0.6125 - val_loss: 0.6048 - val_accuracy: 0.7000\n",
            "Epoch 6/10\n",
            "3/3 [==============================] - 0s 18ms/step - loss: 0.7123 - accuracy: 0.6125 - val_loss: 0.5985 - val_accuracy: 0.7000\n",
            "Epoch 7/10\n",
            "3/3 [==============================] - 0s 32ms/step - loss: 0.7011 - accuracy: 0.6125 - val_loss: 0.5925 - val_accuracy: 0.7500\n",
            "Epoch 8/10\n",
            "3/3 [==============================] - 0s 18ms/step - loss: 0.6905 - accuracy: 0.6000 - val_loss: 0.5866 - val_accuracy: 0.7500\n",
            "Epoch 9/10\n",
            "3/3 [==============================] - 0s 18ms/step - loss: 0.6787 - accuracy: 0.6000 - val_loss: 0.5810 - val_accuracy: 0.8000\n",
            "Epoch 10/10\n",
            "3/3 [==============================] - 0s 18ms/step - loss: 0.6688 - accuracy: 0.6125 - val_loss: 0.5755 - val_accuracy: 0.8500\n"
          ]
        },
        {
          "output_type": "execute_result",
          "data": {
            "text/plain": [
              "<keras.src.callbacks.History at 0x7f7963619690>"
            ]
          },
          "metadata": {},
          "execution_count": 17
        }
      ],
      "source": [
        "#Model training\n",
        "\n",
        "model.fit(X_train, y_train_categorical, epochs = 10,\n",
        "          batch_size = 32, validation_data = (X_test, y_test_categorical))"
      ]
    },
    {
      "cell_type": "code",
      "execution_count": 18,
      "metadata": {
        "colab": {
          "base_uri": "https://localhost:8080/"
        },
        "id": "nUbdHMiZPdh0",
        "outputId": "140ddf2e-4e73-4bf6-f8f1-e6d05255a1a9"
      },
      "outputs": [
        {
          "output_type": "stream",
          "name": "stdout",
          "text": [
            "1/1 [==============================] - 0s 29ms/step - loss: 0.5755 - accuracy: 0.8500\n"
          ]
        }
      ],
      "source": [
        "#Evaluate the model on the test set\n",
        "loss, accuracy = model.evaluate(X_test, y_test_categorical)"
      ]
    },
    {
      "cell_type": "code",
      "execution_count": 20,
      "metadata": {
        "colab": {
          "base_uri": "https://localhost:8080/"
        },
        "id": "FnWA-tQ5Pdh0",
        "outputId": "96402a1d-9365-4d40-ff58-f6e3e68fc325"
      },
      "outputs": [
        {
          "output_type": "stream",
          "name": "stdout",
          "text": [
            "Perdida en el conjunto de prueba: 0.5755256414413452\n",
            "Predicción en el conjunto de prueba: 0.8500000238418579\n"
          ]
        }
      ],
      "source": [
        "#Result impression\n",
        "print(f'Perdida en el conjunto de prueba: {loss}')\n",
        "print(f'Predicción en el conjunto de prueba: {accuracy}')"
      ]
    }
  ],
  "metadata": {
    "language_info": {
      "name": "python"
    },
    "colab": {
      "provenance": []
    },
    "kernelspec": {
      "name": "python3",
      "display_name": "Python 3"
    }
  },
  "nbformat": 4,
  "nbformat_minor": 0
}