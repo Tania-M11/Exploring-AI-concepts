{
  "nbformat": 4,
  "nbformat_minor": 0,
  "metadata": {
    "colab": {
      "provenance": []
    },
    "kernelspec": {
      "name": "python3",
      "display_name": "Python 3"
    },
    "language_info": {
      "name": "python"
    }
  },
  "cells": [
    {
      "cell_type": "code",
      "execution_count": 20,
      "metadata": {
        "id": "3K1dB2TbU4wk"
      },
      "outputs": [],
      "source": [
        "import pandas as pd\n",
        "import numpy as np\n",
        "\n",
        "from sklearn.model_selection import train_test_split\n",
        "from sklearn.metrics import mean_absolute_error\n",
        "from sklearn.metrics import mean_squared_error\n",
        "from statsmodels.tsa.arima.model import ARIMA"
      ]
    },
    {
      "cell_type": "code",
      "source": [
        "#Generar datos de ejemplo\n",
        "np.random.seed(0)\n",
        "dates = pd.date_range(start = '2022-01-01', end = '2022-12-31')\n",
        "values = np.arange(len(dates))*0.2 + np.random.rand(len(dates))*50\n",
        "ts = pd.Series(values, index = dates)"
      ],
      "metadata": {
        "id": "oD0KO7quWFY4"
      },
      "execution_count": 21,
      "outputs": []
    },
    {
      "cell_type": "code",
      "source": [
        "#Dividir os datos de entrenamiento y prueba\n",
        "train_data, test_data = train_test_split(ts, test_size = 0.2, shuffle=False)\n"
      ],
      "metadata": {
        "id": "8XmrSpquXe4u"
      },
      "execution_count": 22,
      "outputs": []
    },
    {
      "cell_type": "code",
      "source": [
        "#Ajustar el modelo ARIMA\n",
        "model = ARIMA(train_data, order = (10, 1, 10))\n",
        "model_fit = model.fit()"
      ],
      "metadata": {
        "colab": {
          "base_uri": "https://localhost:8080/"
        },
        "id": "Zb5t4zKJX3IY",
        "outputId": "4daf15fa-cdab-42be-bcc0-8c03e325e9a7"
      },
      "execution_count": 23,
      "outputs": [
        {
          "output_type": "stream",
          "name": "stderr",
          "text": [
            "/usr/local/lib/python3.10/dist-packages/statsmodels/base/model.py:607: ConvergenceWarning: Maximum Likelihood optimization failed to converge. Check mle_retvals\n",
            "  warnings.warn(\"Maximum Likelihood optimization failed to \"\n"
          ]
        }
      ]
    },
    {
      "cell_type": "code",
      "source": [
        "#Realizar el pronóstico de prueba\n",
        "forecast = model_fit.forecast(steps = len(test_data))"
      ],
      "metadata": {
        "id": "BsXHmZHBYSXo"
      },
      "execution_count": 24,
      "outputs": []
    },
    {
      "cell_type": "code",
      "source": [
        "#Calcular el error absoluto medio(MAE)\n",
        "mae = mean_absolute_error(test_data, forecast)\n",
        "print('Error Absouto Medio MAE:', mae)\n"
      ],
      "metadata": {
        "colab": {
          "base_uri": "https://localhost:8080/"
        },
        "id": "NYk7mEgbYfym",
        "outputId": "bfb49dd1-826d-4fc7-a698-82b6deeb1d54"
      },
      "execution_count": 25,
      "outputs": [
        {
          "output_type": "stream",
          "name": "stdout",
          "text": [
            "Error Absouto Medio MAE: 13.26124137437332\n"
          ]
        }
      ]
    },
    {
      "cell_type": "code",
      "source": [
        "# Calcular el error cuadrático medio (MSE)\n",
        "mse = mean_squared_error(test_data, forecast)\n",
        "print('Error Cuadrático Medio (MSE):', mse)"
      ],
      "metadata": {
        "colab": {
          "base_uri": "https://localhost:8080/"
        },
        "id": "dd6XXkpfZMNX",
        "outputId": "4328d7fa-afe2-49a8-e80b-95083409336c"
      },
      "execution_count": 26,
      "outputs": [
        {
          "output_type": "stream",
          "name": "stdout",
          "text": [
            "Error Cuadrático Medio (MSE): 233.57700698076192\n"
          ]
        }
      ]
    }
  ]
}