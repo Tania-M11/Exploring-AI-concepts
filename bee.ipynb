{
  "cells": [
    {
      "cell_type": "code",
      "execution_count": 1,
      "metadata": {
        "colab": {
          "base_uri": "https://localhost:8080/",
          "height": 78
        },
        "id": "qVGq4F2fRhNR",
        "outputId": "a244c6fa-bb95-4cb3-da15-71083dc5ba46"
      },
      "outputs": [
        {
          "data": {
            "text/html": [
              "\n",
              "     <input type=\"file\" id=\"files-b2924f5e-f357-486e-a345-29ed4e179cdf\" name=\"files[]\" multiple disabled\n",
              "        style=\"border:none\" />\n",
              "     <output id=\"result-b2924f5e-f357-486e-a345-29ed4e179cdf\">\n",
              "      Upload widget is only available when the cell has been executed in the\n",
              "      current browser session. Please rerun this cell to enable.\n",
              "      </output>\n",
              "      <script>// Copyright 2017 Google LLC\n",
              "//\n",
              "// Licensed under the Apache License, Version 2.0 (the \"License\");\n",
              "// you may not use this file except in compliance with the License.\n",
              "// You may obtain a copy of the License at\n",
              "//\n",
              "//      http://www.apache.org/licenses/LICENSE-2.0\n",
              "//\n",
              "// Unless required by applicable law or agreed to in writing, software\n",
              "// distributed under the License is distributed on an \"AS IS\" BASIS,\n",
              "// WITHOUT WARRANTIES OR CONDITIONS OF ANY KIND, either express or implied.\n",
              "// See the License for the specific language governing permissions and\n",
              "// limitations under the License.\n",
              "\n",
              "/**\n",
              " * @fileoverview Helpers for google.colab Python module.\n",
              " */\n",
              "(function(scope) {\n",
              "function span(text, styleAttributes = {}) {\n",
              "  const element = document.createElement('span');\n",
              "  element.textContent = text;\n",
              "  for (const key of Object.keys(styleAttributes)) {\n",
              "    element.style[key] = styleAttributes[key];\n",
              "  }\n",
              "  return element;\n",
              "}\n",
              "\n",
              "// Max number of bytes which will be uploaded at a time.\n",
              "const MAX_PAYLOAD_SIZE = 100 * 1024;\n",
              "\n",
              "function _uploadFiles(inputId, outputId) {\n",
              "  const steps = uploadFilesStep(inputId, outputId);\n",
              "  const outputElement = document.getElementById(outputId);\n",
              "  // Cache steps on the outputElement to make it available for the next call\n",
              "  // to uploadFilesContinue from Python.\n",
              "  outputElement.steps = steps;\n",
              "\n",
              "  return _uploadFilesContinue(outputId);\n",
              "}\n",
              "\n",
              "// This is roughly an async generator (not supported in the browser yet),\n",
              "// where there are multiple asynchronous steps and the Python side is going\n",
              "// to poll for completion of each step.\n",
              "// This uses a Promise to block the python side on completion of each step,\n",
              "// then passes the result of the previous step as the input to the next step.\n",
              "function _uploadFilesContinue(outputId) {\n",
              "  const outputElement = document.getElementById(outputId);\n",
              "  const steps = outputElement.steps;\n",
              "\n",
              "  const next = steps.next(outputElement.lastPromiseValue);\n",
              "  return Promise.resolve(next.value.promise).then((value) => {\n",
              "    // Cache the last promise value to make it available to the next\n",
              "    // step of the generator.\n",
              "    outputElement.lastPromiseValue = value;\n",
              "    return next.value.response;\n",
              "  });\n",
              "}\n",
              "\n",
              "/**\n",
              " * Generator function which is called between each async step of the upload\n",
              " * process.\n",
              " * @param {string} inputId Element ID of the input file picker element.\n",
              " * @param {string} outputId Element ID of the output display.\n",
              " * @return {!Iterable<!Object>} Iterable of next steps.\n",
              " */\n",
              "function* uploadFilesStep(inputId, outputId) {\n",
              "  const inputElement = document.getElementById(inputId);\n",
              "  inputElement.disabled = false;\n",
              "\n",
              "  const outputElement = document.getElementById(outputId);\n",
              "  outputElement.innerHTML = '';\n",
              "\n",
              "  const pickedPromise = new Promise((resolve) => {\n",
              "    inputElement.addEventListener('change', (e) => {\n",
              "      resolve(e.target.files);\n",
              "    });\n",
              "  });\n",
              "\n",
              "  const cancel = document.createElement('button');\n",
              "  inputElement.parentElement.appendChild(cancel);\n",
              "  cancel.textContent = 'Cancel upload';\n",
              "  const cancelPromise = new Promise((resolve) => {\n",
              "    cancel.onclick = () => {\n",
              "      resolve(null);\n",
              "    };\n",
              "  });\n",
              "\n",
              "  // Wait for the user to pick the files.\n",
              "  const files = yield {\n",
              "    promise: Promise.race([pickedPromise, cancelPromise]),\n",
              "    response: {\n",
              "      action: 'starting',\n",
              "    }\n",
              "  };\n",
              "\n",
              "  cancel.remove();\n",
              "\n",
              "  // Disable the input element since further picks are not allowed.\n",
              "  inputElement.disabled = true;\n",
              "\n",
              "  if (!files) {\n",
              "    return {\n",
              "      response: {\n",
              "        action: 'complete',\n",
              "      }\n",
              "    };\n",
              "  }\n",
              "\n",
              "  for (const file of files) {\n",
              "    const li = document.createElement('li');\n",
              "    li.append(span(file.name, {fontWeight: 'bold'}));\n",
              "    li.append(span(\n",
              "        `(${file.type || 'n/a'}) - ${file.size} bytes, ` +\n",
              "        `last modified: ${\n",
              "            file.lastModifiedDate ? file.lastModifiedDate.toLocaleDateString() :\n",
              "                                    'n/a'} - `));\n",
              "    const percent = span('0% done');\n",
              "    li.appendChild(percent);\n",
              "\n",
              "    outputElement.appendChild(li);\n",
              "\n",
              "    const fileDataPromise = new Promise((resolve) => {\n",
              "      const reader = new FileReader();\n",
              "      reader.onload = (e) => {\n",
              "        resolve(e.target.result);\n",
              "      };\n",
              "      reader.readAsArrayBuffer(file);\n",
              "    });\n",
              "    // Wait for the data to be ready.\n",
              "    let fileData = yield {\n",
              "      promise: fileDataPromise,\n",
              "      response: {\n",
              "        action: 'continue',\n",
              "      }\n",
              "    };\n",
              "\n",
              "    // Use a chunked sending to avoid message size limits. See b/62115660.\n",
              "    let position = 0;\n",
              "    do {\n",
              "      const length = Math.min(fileData.byteLength - position, MAX_PAYLOAD_SIZE);\n",
              "      const chunk = new Uint8Array(fileData, position, length);\n",
              "      position += length;\n",
              "\n",
              "      const base64 = btoa(String.fromCharCode.apply(null, chunk));\n",
              "      yield {\n",
              "        response: {\n",
              "          action: 'append',\n",
              "          file: file.name,\n",
              "          data: base64,\n",
              "        },\n",
              "      };\n",
              "\n",
              "      let percentDone = fileData.byteLength === 0 ?\n",
              "          100 :\n",
              "          Math.round((position / fileData.byteLength) * 100);\n",
              "      percent.textContent = `${percentDone}% done`;\n",
              "\n",
              "    } while (position < fileData.byteLength);\n",
              "  }\n",
              "\n",
              "  // All done.\n",
              "  yield {\n",
              "    response: {\n",
              "      action: 'complete',\n",
              "    }\n",
              "  };\n",
              "}\n",
              "\n",
              "scope.google = scope.google || {};\n",
              "scope.google.colab = scope.google.colab || {};\n",
              "scope.google.colab._files = {\n",
              "  _uploadFiles,\n",
              "  _uploadFilesContinue,\n",
              "};\n",
              "})(self);\n",
              "</script> "
            ],
            "text/plain": [
              "<IPython.core.display.HTML object>"
            ]
          },
          "metadata": {},
          "output_type": "display_data"
        },
        {
          "name": "stdout",
          "output_type": "stream",
          "text": [
            "Saving bee_imgs.zip to bee_imgs.zip\n"
          ]
        }
      ],
      "source": [
        "from google.colab import files\n",
        "uploaded = files.upload()"
      ]
    },
    {
      "cell_type": "code",
      "execution_count": 2,
      "metadata": {
        "id": "DcJm4jHwR0y7"
      },
      "outputs": [],
      "source": [
        "import zipfile\n",
        "import io\n",
        "\n",
        "# Descomprimir el archivo ZIP\n",
        "data = zipfile.ZipFile(io.BytesIO(uploaded['bee_imgs.zip']), 'r')\n",
        "data.extractall()"
      ]
    },
    {
      "cell_type": "code",
      "execution_count": 3,
      "metadata": {
        "id": "sMHm_OF2U_Ot"
      },
      "outputs": [],
      "source": [
        "import numpy as np\n",
        "import pandas as pd\n",
        "import os\n",
        "import tensorflow as tf\n",
        "from tensorflow.keras.preprocessing.image import load_img, img_to_array\n",
        "from sklearn.model_selection import train_test_split\n",
        "from sklearn.metrics import confusion_matrix, classification_report\n",
        "import matplotlib.pyplot as plt\n",
        "import seaborn as sns"
      ]
    },
    {
      "cell_type": "markdown",
      "metadata": {},
      "source": [
        "**Cargar y explorar el CSV**"
      ]
    },
    {
      "cell_type": "code",
      "execution_count": 4,
      "metadata": {
        "colab": {
          "base_uri": "https://localhost:8080/"
        },
        "id": "JvMseumSVG4M",
        "outputId": "9f3faa6e-3eea-47f0-b9a7-ffd371f50259"
      },
      "outputs": [
        {
          "name": "stdout",
          "output_type": "stream",
          "text": [
            "          file     date   time        location  zip code subspecies  \\\n",
            "0  041_066.png  8/28/18  16:07  Alvin, TX, USA     77511         -1   \n",
            "1  041_072.png  8/28/18  16:07  Alvin, TX, USA     77511         -1   \n",
            "2  041_073.png  8/28/18  16:07  Alvin, TX, USA     77511         -1   \n",
            "3  041_067.png  8/28/18  16:07  Alvin, TX, USA     77511         -1   \n",
            "4  041_059.png  8/28/18  16:07  Alvin, TX, USA     77511         -1   \n",
            "\n",
            "              health  pollen_carrying   caste  \n",
            "0  hive being robbed            False  worker  \n",
            "1  hive being robbed            False  worker  \n",
            "2  hive being robbed            False  worker  \n",
            "3  hive being robbed            False  worker  \n",
            "4  hive being robbed            False  worker  \n"
          ]
        }
      ],
      "source": [
        "\n",
        "csv_path = '/content/bee_data.csv'\n",
        "data = pd.read_csv(csv_path)\n",
        "print(data.head())"
      ]
    },
    {
      "cell_type": "markdown",
      "metadata": {},
      "source": [
        "**Preprocesamiento de imágenes**"
      ]
    },
    {
      "cell_type": "code",
      "execution_count": 5,
      "metadata": {
        "id": "DjNk3DolVQ65"
      },
      "outputs": [],
      "source": [
        "\n",
        "image_path = '/content/bee_imgs/'"
      ]
    },
    {
      "cell_type": "markdown",
      "metadata": {},
      "source": [
        "**Filtrar las imágenes disponibles en la carpeta**"
      ]
    },
    {
      "cell_type": "code",
      "execution_count": 6,
      "metadata": {
        "id": "m3kMuZLOUOQG"
      },
      "outputs": [],
      "source": [
        "available_files = set(os.listdir(image_path))\n",
        "data = data[data['file'].isin(available_files)]"
      ]
    },
    {
      "cell_type": "markdown",
      "metadata": {},
      "source": [
        "**Explorar las etiquetas de salud**"
      ]
    },
    {
      "cell_type": "code",
      "execution_count": 7,
      "metadata": {
        "colab": {
          "base_uri": "https://localhost:8080/"
        },
        "id": "BEWFeA_7USgf",
        "outputId": "998260e1-1ac5-4543-fcbd-e17326c045ea"
      },
      "outputs": [
        {
          "name": "stdout",
          "output_type": "stream",
          "text": [
            "['hive being robbed' 'healthy' 'few varrao, hive beetles' 'ant problems'\n",
            " 'missing queen' 'Varroa, Small Hive Beetles']\n"
          ]
        }
      ],
      "source": [
        "print(data['health'].unique())"
      ]
    },
    {
      "cell_type": "markdown",
      "metadata": {},
      "source": [
        "**Convertir las etiquetas a categorías binarias (0 = enfermo, 1 = sano)**"
      ]
    },
    {
      "cell_type": "code",
      "execution_count": 9,
      "metadata": {
        "id": "2wmkS0yLUUI4"
      },
      "outputs": [],
      "source": [
        "def convert_health_label(health):\n",
        "    unhealthy_conditions = ['hive being robbed', 'few varrao, hive beetles', 'ant problems', 'Varroa, Small Hive Beetles']\n",
        "    return 0 if health in unhealthy_conditions else 1\n",
        "\n",
        "data['health'] = data['health'].apply(convert_health_label)"
      ]
    },
    {
      "cell_type": "code",
      "execution_count": 10,
      "metadata": {
        "id": "psUjHqRLUlyX"
      },
      "outputs": [],
      "source": [
        "img_size = (44, 64)"
      ]
    },
    {
      "cell_type": "markdown",
      "metadata": {},
      "source": [
        "**Cargar imágenes**"
      ]
    },
    {
      "cell_type": "code",
      "execution_count": 12,
      "metadata": {
        "id": "TtcWTe8JUoQG"
      },
      "outputs": [],
      "source": [
        "\n",
        "def load_image(file):\n",
        "    img = load_img(image_path + file, target_size=img_size)\n",
        "    img = img_to_array(img)\n",
        "    img = img / 255.0\n",
        "    return img\n",
        "\n",
        "# Aplicar la función a todas las imágenes\n",
        "data['image'] = data['file'].apply(load_image)"
      ]
    },
    {
      "cell_type": "markdown",
      "metadata": {},
      "source": [
        "**Dividir los datos en conjuntos de entrenamiento, validación y prueba**"
      ]
    },
    {
      "cell_type": "code",
      "execution_count": 13,
      "metadata": {
        "id": "anPmw83EUttG"
      },
      "outputs": [],
      "source": [
        "X = np.stack(data['image'])\n",
        "y = data['health'].values\n",
        "X_train, X_temp, y_train, y_temp = train_test_split(X, y, test_size=0.4, random_state=42)\n",
        "X_val, X_test, y_val, y_test = train_test_split(X_temp, y_temp, test_size=0.5, random_state=42)"
      ]
    },
    {
      "cell_type": "markdown",
      "metadata": {
        "id": "DB3UxftnUwzw"
      },
      "source": [
        "**Construcción del Modelo**"
      ]
    },
    {
      "cell_type": "code",
      "execution_count": 14,
      "metadata": {
        "colab": {
          "base_uri": "https://localhost:8080/"
        },
        "id": "cO8EL2UOUy1B",
        "outputId": "2fd9d66d-b4a3-45f7-a435-c2d1230c08e9"
      },
      "outputs": [
        {
          "name": "stdout",
          "output_type": "stream",
          "text": [
            "Model: \"sequential\"\n",
            "_________________________________________________________________\n",
            " Layer (type)                Output Shape              Param #   \n",
            "=================================================================\n",
            " conv2d (Conv2D)             (None, 42, 62, 32)        896       \n",
            "                                                                 \n",
            " batch_normalization (Batch  (None, 42, 62, 32)        128       \n",
            " Normalization)                                                  \n",
            "                                                                 \n",
            " max_pooling2d (MaxPooling2  (None, 21, 31, 32)        0         \n",
            " D)                                                              \n",
            "                                                                 \n",
            " conv2d_1 (Conv2D)           (None, 19, 29, 64)        18496     \n",
            "                                                                 \n",
            " batch_normalization_1 (Bat  (None, 19, 29, 64)        256       \n",
            " chNormalization)                                                \n",
            "                                                                 \n",
            " max_pooling2d_1 (MaxPoolin  (None, 9, 14, 64)         0         \n",
            " g2D)                                                            \n",
            "                                                                 \n",
            " conv2d_2 (Conv2D)           (None, 7, 12, 128)        73856     \n",
            "                                                                 \n",
            " batch_normalization_2 (Bat  (None, 7, 12, 128)        512       \n",
            " chNormalization)                                                \n",
            "                                                                 \n",
            " max_pooling2d_2 (MaxPoolin  (None, 3, 6, 128)         0         \n",
            " g2D)                                                            \n",
            "                                                                 \n",
            " flatten (Flatten)           (None, 2304)              0         \n",
            "                                                                 \n",
            " dense (Dense)               (None, 128)               295040    \n",
            "                                                                 \n",
            " dropout (Dropout)           (None, 128)               0         \n",
            "                                                                 \n",
            " dense_1 (Dense)             (None, 1)                 129       \n",
            "                                                                 \n",
            "=================================================================\n",
            "Total params: 389313 (1.49 MB)\n",
            "Trainable params: 388865 (1.48 MB)\n",
            "Non-trainable params: 448 (1.75 KB)\n",
            "_________________________________________________________________\n"
          ]
        }
      ],
      "source": [
        "from tensorflow.keras.models import Sequential\n",
        "from tensorflow.keras.layers import Conv2D, MaxPooling2D, Flatten, Dense, Dropout, BatchNormalization\n",
        "\n",
        "def create_model():\n",
        "    model = Sequential([\n",
        "        Conv2D(32, (3, 3), activation='relu', input_shape=(44, 64, 3)),\n",
        "        BatchNormalization(),\n",
        "        MaxPooling2D((2, 2)),\n",
        "        Conv2D(64, (3, 3), activation='relu'),\n",
        "        BatchNormalization(),\n",
        "        MaxPooling2D((2, 2)),\n",
        "        Conv2D(128, (3, 3), activation='relu'),\n",
        "        BatchNormalization(),\n",
        "        MaxPooling2D((2, 2)),\n",
        "        Flatten(),\n",
        "        Dense(128, activation='relu'),\n",
        "        Dropout(0.5),\n",
        "        Dense(1, activation='sigmoid')\n",
        "    ])\n",
        "    model.compile(optimizer='adam', loss='binary_crossentropy', metrics=['accuracy'])\n",
        "    return model\n",
        "\n",
        "model = create_model()\n",
        "model.summary()\n"
      ]
    },
    {
      "cell_type": "markdown",
      "metadata": {
        "id": "2lCx4RBrVB_I"
      },
      "source": [
        "**Entrenamiento del Modelo**"
      ]
    },
    {
      "cell_type": "code",
      "execution_count": 22,
      "metadata": {
        "colab": {
          "base_uri": "https://localhost:8080/"
        },
        "id": "9JuqWHSkU9i-",
        "outputId": "d9921472-5f64-457e-eeca-7787d1a317a1"
      },
      "outputs": [
        {
          "name": "stdout",
          "output_type": "stream",
          "text": [
            "Epoch 1/100\n",
            "95/95 [==============================] - 23s 240ms/step - loss: 0.0087 - accuracy: 0.9977 - val_loss: 0.1353 - val_accuracy: 0.9713\n",
            "Epoch 2/100\n",
            "95/95 [==============================] - 19s 197ms/step - loss: 0.0233 - accuracy: 0.9944 - val_loss: 0.7747 - val_accuracy: 0.8533\n",
            "Epoch 3/100\n",
            "95/95 [==============================] - 19s 198ms/step - loss: 0.0080 - accuracy: 0.9977 - val_loss: 0.2180 - val_accuracy: 0.9693\n",
            "Epoch 4/100\n",
            "95/95 [==============================] - 21s 221ms/step - loss: 0.0033 - accuracy: 0.9987 - val_loss: 0.1627 - val_accuracy: 0.9693\n",
            "Epoch 5/100\n",
            "95/95 [==============================] - 18s 195ms/step - loss: 0.0025 - accuracy: 0.9997 - val_loss: 0.1163 - val_accuracy: 0.9841\n",
            "Epoch 6/100\n",
            "95/95 [==============================] - 19s 204ms/step - loss: 0.0027 - accuracy: 0.9983 - val_loss: 0.1118 - val_accuracy: 0.9812\n",
            "Epoch 7/100\n",
            "95/95 [==============================] - 20s 210ms/step - loss: 0.0060 - accuracy: 0.9987 - val_loss: 0.2502 - val_accuracy: 0.9524\n",
            "Epoch 8/100\n",
            "95/95 [==============================] - 20s 208ms/step - loss: 0.0017 - accuracy: 0.9990 - val_loss: 0.1725 - val_accuracy: 0.9772\n",
            "Epoch 9/100\n",
            "95/95 [==============================] - 18s 194ms/step - loss: 0.0292 - accuracy: 0.9917 - val_loss: 2.4139 - val_accuracy: 0.6878\n",
            "Epoch 10/100\n",
            "95/95 [==============================] - 19s 196ms/step - loss: 0.0300 - accuracy: 0.9917 - val_loss: 2.3182 - val_accuracy: 0.7215\n",
            "Epoch 11/100\n",
            "95/95 [==============================] - 20s 210ms/step - loss: 0.0148 - accuracy: 0.9947 - val_loss: 0.8447 - val_accuracy: 0.8523\n",
            "Epoch 12/100\n",
            "95/95 [==============================] - 20s 210ms/step - loss: 0.0330 - accuracy: 0.9911 - val_loss: 0.9214 - val_accuracy: 0.8662\n",
            "Epoch 13/100\n",
            "95/95 [==============================] - 19s 196ms/step - loss: 0.0069 - accuracy: 0.9970 - val_loss: 0.1357 - val_accuracy: 0.9752\n",
            "Epoch 14/100\n",
            "95/95 [==============================] - 18s 194ms/step - loss: 0.0113 - accuracy: 0.9974 - val_loss: 0.2144 - val_accuracy: 0.9623\n",
            "Epoch 15/100\n",
            "95/95 [==============================] - 20s 211ms/step - loss: 0.0081 - accuracy: 0.9977 - val_loss: 0.7238 - val_accuracy: 0.8959\n",
            "Epoch 16/100\n",
            "95/95 [==============================] - 19s 204ms/step - loss: 0.0051 - accuracy: 0.9977 - val_loss: 2.4429 - val_accuracy: 0.8167\n",
            "Epoch 17/100\n",
            "95/95 [==============================] - 18s 194ms/step - loss: 0.0038 - accuracy: 0.9987 - val_loss: 0.9876 - val_accuracy: 0.8652\n",
            "Epoch 18/100\n",
            "95/95 [==============================] - 19s 196ms/step - loss: 0.0107 - accuracy: 0.9977 - val_loss: 0.1650 - val_accuracy: 0.9673\n",
            "Epoch 19/100\n",
            "95/95 [==============================] - 20s 210ms/step - loss: 0.0128 - accuracy: 0.9954 - val_loss: 0.1501 - val_accuracy: 0.9643\n",
            "Epoch 20/100\n",
            "95/95 [==============================] - 19s 201ms/step - loss: 0.0229 - accuracy: 0.9950 - val_loss: 0.5556 - val_accuracy: 0.8979\n",
            "Epoch 21/100\n",
            "95/95 [==============================] - 18s 195ms/step - loss: 0.0159 - accuracy: 0.9947 - val_loss: 0.1299 - val_accuracy: 0.9772\n",
            "Epoch 22/100\n",
            "95/95 [==============================] - 18s 192ms/step - loss: 0.0062 - accuracy: 0.9974 - val_loss: 0.1345 - val_accuracy: 0.9732\n",
            "Epoch 23/100\n",
            "95/95 [==============================] - 20s 213ms/step - loss: 0.0108 - accuracy: 0.9954 - val_loss: 0.1730 - val_accuracy: 0.9772\n",
            "Epoch 24/100\n",
            "95/95 [==============================] - 19s 198ms/step - loss: 0.0079 - accuracy: 0.9974 - val_loss: 3.0751 - val_accuracy: 0.7512\n",
            "Epoch 25/100\n",
            "95/95 [==============================] - 18s 194ms/step - loss: 0.0086 - accuracy: 0.9980 - val_loss: 0.1159 - val_accuracy: 0.9742\n",
            "Epoch 26/100\n",
            "95/95 [==============================] - 19s 196ms/step - loss: 0.0164 - accuracy: 0.9937 - val_loss: 0.6454 - val_accuracy: 0.9019\n",
            "Epoch 27/100\n",
            "95/95 [==============================] - 20s 213ms/step - loss: 0.0150 - accuracy: 0.9954 - val_loss: 0.1565 - val_accuracy: 0.9722\n",
            "Epoch 28/100\n",
            "95/95 [==============================] - 19s 199ms/step - loss: 0.0151 - accuracy: 0.9954 - val_loss: 0.1139 - val_accuracy: 0.9693\n",
            "Epoch 29/100\n",
            "95/95 [==============================] - 18s 194ms/step - loss: 0.0129 - accuracy: 0.9970 - val_loss: 0.1676 - val_accuracy: 0.9693\n",
            "Epoch 30/100\n",
            "95/95 [==============================] - 19s 196ms/step - loss: 0.0119 - accuracy: 0.9947 - val_loss: 0.1342 - val_accuracy: 0.9693\n",
            "Epoch 31/100\n",
            "95/95 [==============================] - 20s 212ms/step - loss: 0.0042 - accuracy: 0.9990 - val_loss: 0.1853 - val_accuracy: 0.9613\n",
            "Epoch 32/100\n",
            "95/95 [==============================] - 19s 199ms/step - loss: 0.0055 - accuracy: 0.9980 - val_loss: 0.1672 - val_accuracy: 0.9732\n",
            "Epoch 33/100\n",
            "95/95 [==============================] - 18s 192ms/step - loss: 0.0010 - accuracy: 1.0000 - val_loss: 0.1101 - val_accuracy: 0.9841\n",
            "Epoch 34/100\n",
            "95/95 [==============================] - 18s 195ms/step - loss: 5.6182e-04 - accuracy: 1.0000 - val_loss: 0.1098 - val_accuracy: 0.9851\n",
            "Epoch 35/100\n",
            "95/95 [==============================] - 20s 213ms/step - loss: 0.0013 - accuracy: 0.9993 - val_loss: 0.0931 - val_accuracy: 0.9871\n",
            "Epoch 36/100\n",
            "95/95 [==============================] - 19s 198ms/step - loss: 0.0013 - accuracy: 0.9997 - val_loss: 0.1564 - val_accuracy: 0.9832\n",
            "Epoch 37/100\n",
            "95/95 [==============================] - 19s 197ms/step - loss: 2.1211e-04 - accuracy: 1.0000 - val_loss: 0.1423 - val_accuracy: 0.9841\n",
            "Epoch 38/100\n",
            "95/95 [==============================] - 18s 193ms/step - loss: 1.1103e-04 - accuracy: 1.0000 - val_loss: 0.1352 - val_accuracy: 0.9841\n",
            "Epoch 39/100\n",
            "95/95 [==============================] - 21s 217ms/step - loss: 4.7927e-04 - accuracy: 0.9997 - val_loss: 0.1492 - val_accuracy: 0.9822\n",
            "Epoch 40/100\n",
            "95/95 [==============================] - 19s 196ms/step - loss: 3.0770e-04 - accuracy: 1.0000 - val_loss: 0.1502 - val_accuracy: 0.9832\n",
            "Epoch 41/100\n",
            "95/95 [==============================] - 18s 195ms/step - loss: 0.0074 - accuracy: 0.9987 - val_loss: 0.1991 - val_accuracy: 0.9703\n",
            "Epoch 42/100\n",
            "95/95 [==============================] - 18s 195ms/step - loss: 0.0327 - accuracy: 0.9888 - val_loss: 0.9691 - val_accuracy: 0.8365\n",
            "Epoch 43/100\n",
            "95/95 [==============================] - 20s 215ms/step - loss: 0.0205 - accuracy: 0.9944 - val_loss: 0.2516 - val_accuracy: 0.9504\n",
            "Epoch 44/100\n",
            "95/95 [==============================] - 19s 202ms/step - loss: 0.0239 - accuracy: 0.9937 - val_loss: 0.1695 - val_accuracy: 0.9643\n",
            "Epoch 45/100\n",
            "95/95 [==============================] - 21s 218ms/step - loss: 0.0124 - accuracy: 0.9964 - val_loss: 0.2942 - val_accuracy: 0.9643\n",
            "Epoch 46/100\n",
            "95/95 [==============================] - 23s 242ms/step - loss: 0.0165 - accuracy: 0.9954 - val_loss: 0.4709 - val_accuracy: 0.9405\n",
            "Epoch 47/100\n",
            "95/95 [==============================] - 22s 233ms/step - loss: 0.0084 - accuracy: 0.9964 - val_loss: 0.1928 - val_accuracy: 0.9613\n",
            "Epoch 48/100\n",
            "95/95 [==============================] - 22s 228ms/step - loss: 0.0083 - accuracy: 0.9974 - val_loss: 0.1773 - val_accuracy: 0.9703\n",
            "Epoch 49/100\n",
            "95/95 [==============================] - 20s 211ms/step - loss: 0.0063 - accuracy: 0.9977 - val_loss: 0.2555 - val_accuracy: 0.9683\n",
            "Epoch 50/100\n",
            "95/95 [==============================] - 18s 195ms/step - loss: 0.0034 - accuracy: 0.9987 - val_loss: 0.1817 - val_accuracy: 0.9782\n",
            "Epoch 51/100\n",
            "95/95 [==============================] - 21s 217ms/step - loss: 0.0028 - accuracy: 0.9990 - val_loss: 0.1761 - val_accuracy: 0.9822\n",
            "Epoch 52/100\n",
            "95/95 [==============================] - 21s 223ms/step - loss: 0.0012 - accuracy: 0.9997 - val_loss: 0.2941 - val_accuracy: 0.9752\n",
            "Epoch 53/100\n",
            "95/95 [==============================] - 19s 196ms/step - loss: 0.0016 - accuracy: 0.9990 - val_loss: 0.1397 - val_accuracy: 0.9812\n",
            "Epoch 54/100\n",
            "95/95 [==============================] - 19s 196ms/step - loss: 0.0013 - accuracy: 0.9993 - val_loss: 0.1627 - val_accuracy: 0.9772\n",
            "Epoch 55/100\n",
            "95/95 [==============================] - 20s 210ms/step - loss: 7.2285e-04 - accuracy: 0.9997 - val_loss: 0.2080 - val_accuracy: 0.9772\n",
            "Epoch 56/100\n",
            "95/95 [==============================] - 20s 210ms/step - loss: 0.0099 - accuracy: 0.9974 - val_loss: 0.4537 - val_accuracy: 0.9306\n",
            "Epoch 57/100\n",
            "95/95 [==============================] - 19s 198ms/step - loss: 0.0061 - accuracy: 0.9967 - val_loss: 0.3662 - val_accuracy: 0.9425\n",
            "Epoch 58/100\n",
            "95/95 [==============================] - 18s 195ms/step - loss: 0.0031 - accuracy: 0.9983 - val_loss: 0.2015 - val_accuracy: 0.9792\n",
            "Epoch 59/100\n",
            "95/95 [==============================] - 20s 215ms/step - loss: 0.0058 - accuracy: 0.9980 - val_loss: 0.5632 - val_accuracy: 0.9039\n",
            "Epoch 60/100\n",
            "95/95 [==============================] - 19s 197ms/step - loss: 0.0069 - accuracy: 0.9967 - val_loss: 1.0089 - val_accuracy: 0.9187\n",
            "Epoch 61/100\n",
            "95/95 [==============================] - 19s 196ms/step - loss: 0.0285 - accuracy: 0.9924 - val_loss: 1.6088 - val_accuracy: 0.7740\n",
            "Epoch 62/100\n",
            "95/95 [==============================] - 19s 197ms/step - loss: 0.0139 - accuracy: 0.9967 - val_loss: 0.2527 - val_accuracy: 0.9703\n",
            "Epoch 63/100\n",
            "95/95 [==============================] - 20s 214ms/step - loss: 0.0359 - accuracy: 0.9931 - val_loss: 1.2826 - val_accuracy: 0.8523\n",
            "Epoch 64/100\n",
            "95/95 [==============================] - 19s 199ms/step - loss: 0.0558 - accuracy: 0.9927 - val_loss: 0.3934 - val_accuracy: 0.9395\n",
            "Epoch 65/100\n",
            "95/95 [==============================] - 19s 195ms/step - loss: 0.0121 - accuracy: 0.9954 - val_loss: 0.2673 - val_accuracy: 0.9514\n",
            "Epoch 66/100\n",
            "95/95 [==============================] - 19s 196ms/step - loss: 0.0090 - accuracy: 0.9967 - val_loss: 0.1972 - val_accuracy: 0.9693\n",
            "Epoch 67/100\n",
            "95/95 [==============================] - 20s 214ms/step - loss: 0.0037 - accuracy: 0.9993 - val_loss: 0.1605 - val_accuracy: 0.9782\n",
            "Epoch 68/100\n",
            "95/95 [==============================] - 19s 200ms/step - loss: 0.0011 - accuracy: 0.9997 - val_loss: 0.1893 - val_accuracy: 0.9812\n",
            "Epoch 69/100\n",
            "95/95 [==============================] - 19s 195ms/step - loss: 0.0053 - accuracy: 0.9983 - val_loss: 0.1678 - val_accuracy: 0.9762\n",
            "Epoch 70/100\n",
            "95/95 [==============================] - 19s 196ms/step - loss: 0.0023 - accuracy: 0.9993 - val_loss: 0.1280 - val_accuracy: 0.9832\n",
            "Epoch 71/100\n",
            "95/95 [==============================] - 20s 211ms/step - loss: 0.0080 - accuracy: 0.9980 - val_loss: 0.2132 - val_accuracy: 0.9713\n",
            "Epoch 72/100\n",
            "95/95 [==============================] - 19s 197ms/step - loss: 0.0025 - accuracy: 0.9990 - val_loss: 0.1833 - val_accuracy: 0.9752\n",
            "Epoch 73/100\n",
            "95/95 [==============================] - 18s 193ms/step - loss: 0.0012 - accuracy: 1.0000 - val_loss: 0.1805 - val_accuracy: 0.9742\n",
            "Epoch 74/100\n",
            "95/95 [==============================] - 18s 192ms/step - loss: 0.0010 - accuracy: 0.9997 - val_loss: 0.1486 - val_accuracy: 0.9812\n",
            "Epoch 75/100\n",
            "95/95 [==============================] - 20s 208ms/step - loss: 4.0948e-04 - accuracy: 1.0000 - val_loss: 0.1417 - val_accuracy: 0.9812\n",
            "Epoch 76/100\n",
            "95/95 [==============================] - 19s 203ms/step - loss: 3.2480e-04 - accuracy: 1.0000 - val_loss: 0.1465 - val_accuracy: 0.9822\n",
            "Epoch 77/100\n",
            "95/95 [==============================] - 19s 196ms/step - loss: 4.7601e-04 - accuracy: 1.0000 - val_loss: 0.1672 - val_accuracy: 0.9822\n",
            "Epoch 78/100\n",
            "95/95 [==============================] - 19s 196ms/step - loss: 5.3997e-04 - accuracy: 0.9997 - val_loss: 0.4316 - val_accuracy: 0.9495\n",
            "Epoch 79/100\n",
            "95/95 [==============================] - 20s 209ms/step - loss: 0.0122 - accuracy: 0.9964 - val_loss: 0.6861 - val_accuracy: 0.9326\n",
            "Epoch 80/100\n",
            "95/95 [==============================] - 19s 203ms/step - loss: 0.0145 - accuracy: 0.9950 - val_loss: 0.2611 - val_accuracy: 0.9633\n",
            "Epoch 81/100\n",
            "95/95 [==============================] - 19s 195ms/step - loss: 0.0118 - accuracy: 0.9954 - val_loss: 0.6344 - val_accuracy: 0.9405\n",
            "Epoch 82/100\n",
            "95/95 [==============================] - 19s 197ms/step - loss: 0.0015 - accuracy: 0.9997 - val_loss: 0.2215 - val_accuracy: 0.9752\n",
            "Epoch 83/100\n",
            "95/95 [==============================] - 23s 238ms/step - loss: 0.0083 - accuracy: 0.9960 - val_loss: 0.2536 - val_accuracy: 0.9613\n",
            "Epoch 84/100\n",
            "95/95 [==============================] - 21s 218ms/step - loss: 0.0085 - accuracy: 0.9974 - val_loss: 0.7050 - val_accuracy: 0.9128\n",
            "Epoch 85/100\n",
            "95/95 [==============================] - 19s 195ms/step - loss: 0.0045 - accuracy: 0.9990 - val_loss: 0.1805 - val_accuracy: 0.9772\n",
            "Epoch 86/100\n",
            "95/95 [==============================] - 21s 219ms/step - loss: 0.0086 - accuracy: 0.9983 - val_loss: 0.2642 - val_accuracy: 0.9722\n",
            "Epoch 87/100\n",
            "95/95 [==============================] - 19s 198ms/step - loss: 0.0081 - accuracy: 0.9980 - val_loss: 0.2137 - val_accuracy: 0.9683\n",
            "Epoch 88/100\n",
            "95/95 [==============================] - 19s 198ms/step - loss: 0.0115 - accuracy: 0.9974 - val_loss: 0.4082 - val_accuracy: 0.9544\n",
            "Epoch 89/100\n",
            "95/95 [==============================] - 19s 203ms/step - loss: 0.0140 - accuracy: 0.9967 - val_loss: 1.6374 - val_accuracy: 0.8107\n",
            "Epoch 90/100\n",
            "95/95 [==============================] - 21s 218ms/step - loss: 0.0060 - accuracy: 0.9977 - val_loss: 0.2048 - val_accuracy: 0.9703\n",
            "Epoch 91/100\n",
            "95/95 [==============================] - 19s 196ms/step - loss: 0.0068 - accuracy: 0.9983 - val_loss: 0.1576 - val_accuracy: 0.9752\n",
            "Epoch 92/100\n",
            "95/95 [==============================] - 19s 197ms/step - loss: 0.0012 - accuracy: 0.9993 - val_loss: 0.1438 - val_accuracy: 0.9822\n",
            "Epoch 93/100\n",
            "95/95 [==============================] - 19s 196ms/step - loss: 0.0040 - accuracy: 0.9987 - val_loss: 0.2920 - val_accuracy: 0.9722\n",
            "Epoch 94/100\n",
            "95/95 [==============================] - 22s 231ms/step - loss: 0.0136 - accuracy: 0.9957 - val_loss: 0.2189 - val_accuracy: 0.9643\n",
            "Epoch 95/100\n",
            "95/95 [==============================] - 19s 204ms/step - loss: 0.0047 - accuracy: 0.9983 - val_loss: 0.3793 - val_accuracy: 0.9158\n",
            "Epoch 96/100\n",
            "95/95 [==============================] - 19s 201ms/step - loss: 0.0023 - accuracy: 0.9997 - val_loss: 0.1294 - val_accuracy: 0.9762\n",
            "Epoch 97/100\n",
            "95/95 [==============================] - 20s 211ms/step - loss: 6.6470e-04 - accuracy: 0.9997 - val_loss: 0.1705 - val_accuracy: 0.9802\n",
            "Epoch 98/100\n",
            "95/95 [==============================] - 20s 205ms/step - loss: 7.1392e-04 - accuracy: 0.9997 - val_loss: 0.1630 - val_accuracy: 0.9802\n",
            "Epoch 99/100\n",
            "95/95 [==============================] - 29s 311ms/step - loss: 0.0038 - accuracy: 0.9983 - val_loss: 0.4236 - val_accuracy: 0.9415\n",
            "Epoch 100/100\n",
            "95/95 [==============================] - 19s 196ms/step - loss: 5.9606e-04 - accuracy: 1.0000 - val_loss: 0.1798 - val_accuracy: 0.9802\n"
          ]
        }
      ],
      "source": [
        "history = model.fit(X_train, y_train, epochs=100, validation_data=(X_val, y_val), batch_size=32)"
      ]
    },
    {
      "cell_type": "markdown",
      "metadata": {
        "id": "FJ8mo4_QXklz"
      },
      "source": [
        "**Graficas**"
      ]
    },
    {
      "cell_type": "code",
      "execution_count": null,
      "metadata": {
        "colab": {
          "base_uri": "https://localhost:8080/",
          "height": 285
        },
        "id": "ywkJ0-CtV2h_",
        "outputId": "cf22d01e-1c95-4e44-a5c0-2545b27b16b7"
      },
      "outputs": [],
      "source": [
        "\n",
        "def plot_metrics(history):\n",
        "    plt.figure(figsize=(12, 4))\n",
        "    plt.subplot(1, 2, 1)\n",
        "    plt.plot(history.history['accuracy'], label='Accuracy')\n",
        "    plt.plot(history.history['val_accuracy'], label='Val Accuracy')\n",
        "    plt.xlabel('Epoch')\n",
        "    plt.ylabel('Accuracy')\n",
        "    plt.legend()\n",
        "\n",
        "    plt.subplot(1, 2, 2)\n",
        "    plt.plot(history.history['loss'], label='Loss')\n",
        "    plt.plot(history.history['val_loss'], label='Val Loss')\n",
        "    plt.xlabel('Epoch')\n",
        "    plt.ylabel('Loss')\n",
        "    plt.legend()\n",
        "\n",
        "    plt.show()\n",
        "\n",
        "plot_metrics(history)"
      ]
    },
    {
      "cell_type": "markdown",
      "metadata": {
        "id": "pMtMQZ4_V4Lr"
      },
      "source": [
        "**Evaluación del Modelo**"
      ]
    },
    {
      "cell_type": "code",
      "execution_count": 24,
      "metadata": {
        "colab": {
          "base_uri": "https://localhost:8080/",
          "height": 798
        },
        "id": "2CyrTYItV_IQ",
        "outputId": "1d280571-4016-4d22-d64e-97115c4fcc9d"
      },
      "outputs": [
        {
          "name": "stdout",
          "output_type": "stream",
          "text": [
            "32/32 [==============================] - 1s 43ms/step - loss: 0.1201 - accuracy: 0.9861\n",
            "Test Accuracy: 0.986138641834259\n",
            "32/32 [==============================] - 3s 88ms/step\n"
          ]
        },
        {
          "data": {
            "image/png": "[encoded data removed]",
            "text/plain": [
              "<Figure size 800x600 with 2 Axes>"
            ]
          },
          "metadata": {},
          "output_type": "display_data"
        },
        {
          "name": "stdout",
          "output_type": "stream",
          "text": [
            "              precision    recall  f1-score   support\n",
            "\n",
            "   Unhealthy       0.99      0.97      0.98       357\n",
            "     Healthy       0.98      1.00      0.99       653\n",
            "\n",
            "    accuracy                           0.99      1010\n",
            "   macro avg       0.99      0.98      0.98      1010\n",
            "weighted avg       0.99      0.99      0.99      1010\n",
            "\n"
          ]
        }
      ],
      "source": [
        "# Evaluación del modelo\n",
        "loss, accuracy = model.evaluate(X_test, y_test)\n",
        "print(f'Test Accuracy: {accuracy}')\n",
        "\n",
        "# Predicciones en el conjunto de prueba\n",
        "y_pred = (model.predict(X_test) > 0.5).astype(\"int32\")\n",
        "\n",
        "# Matriz de confusión\n",
        "cm = confusion_matrix(y_test, y_pred)\n",
        "plt.figure(figsize=(8, 6))\n",
        "sns.heatmap(cm, annot=True, fmt='d', cmap='Blues')\n",
        "plt.xlabel('Predicted')\n",
        "plt.ylabel('Actual')\n",
        "plt.title('Confusion Matrix')\n",
        "plt.show()\n",
        "\n",
        "# Reporte de clasificación\n",
        "print(classification_report(y_test, y_pred, target_names=['Unhealthy', 'Healthy']))\n"
      ]
    },
    {
      "cell_type": "markdown",
      "metadata": {
        "id": "YO1Dzg5WjLBs"
      },
      "source": [
        "**Predicción**\n"
      ]
    },
    {
      "cell_type": "code",
      "execution_count": 30,
      "metadata": {
        "colab": {
          "base_uri": "https://localhost:8080/",
          "height": 277
        },
        "id": "90hjH-vNZMLw",
        "outputId": "b54d9e34-de77-4014-fd42-d106685b7d7a"
      },
      "outputs": [
        {
          "data": {
            "image/png": "[encoded data removed]",
            "text/plain": [
              "<Figure size 1500x600 with 10 Axes>"
            ]
          },
          "metadata": {},
          "output_type": "display_data"
        }
      ],
      "source": [
        "def visualize_predictions(X, y_true, y_pred, num_images=5):\n",
        "    incorrect = np.where(y_true != y_pred)[0]\n",
        "    correct = np.where(y_true == y_pred)[0]\n",
        "\n",
        "    plt.figure(figsize=(15, 6))\n",
        "\n",
        "    for i, idx in enumerate(correct[:num_images]):\n",
        "        plt.subplot(2, num_images, i + 1)\n",
        "        plt.imshow(X[idx])\n",
        "        title = f'True: {\"Healthy\" if y_true[idx] == 1 else \"Unhealthy\"}\\nPred: {\"Healthy\" if y_pred[idx] == 1 else \"Unhealthy\"}'\n",
        "        plt.title(title, color='green')\n",
        "        plt.axis('off')\n",
        "\n",
        "    for i, idx in enumerate(incorrect[:num_images]):\n",
        "        plt.subplot(2, num_images, i + 1 + num_images)\n",
        "        plt.imshow(X[idx])\n",
        "        title = f'True: {\"Healthy\" if y_true[idx] == 1 else \"Unhealthy\"}\\nPred: {\"Healthy\" if y_pred[idx] == 1 else \"Unhealthy\"}'\n",
        "        plt.title(title, color='red')\n",
        "        plt.axis('off')\n",
        "\n",
        "    plt.tight_layout()\n",
        "    plt.show()\n",
        "\n",
        "# Ejecutar la función de visualización con ejemplos de predicciones\n",
        "visualize_predictions(X_test, y_test, y_pred.flatten())\n",
        "\n"
      ]
    }
  ],
  "metadata": {
    "colab": {
      "provenance": []
    },
    "kernelspec": {
      "display_name": "Python 3",
      "name": "python3"
    },
    "language_info": {
      "name": "python"
    }
  },
  "nbformat": 4,
  "nbformat_minor": 0
}
