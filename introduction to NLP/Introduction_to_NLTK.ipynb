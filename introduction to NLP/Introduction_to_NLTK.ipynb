{
  "cells": [
    {
      "cell_type": "markdown",
      "metadata": {
        "id": "KLFkJJkp36CB"
      },
      "source": [
        "#Introduccion a NLTK (Natural Language Toolkit)"
      ]
    },
    {
      "cell_type": "code",
      "execution_count": null,
      "metadata": {
        "id": "QX5CWr5k7ADa"
      },
      "outputs": [],
      "source": [
        "pip install nltk"
      ]
    },
    {
      "cell_type": "code",
      "execution_count": null,
      "metadata": {
        "id": "Zg03z4C6432Y"
      },
      "outputs": [],
      "source": [
        "# import nltk\n",
        "# nltk.download()"
      ]
    },
    {
      "cell_type": "markdown",
      "metadata": {
        "id": "iorzdkKa6uab"
      },
      "source": [
        "Tokenización: proceso de dividir un texto en unidades más pequeñas, llamadas tokens"
      ]
    },
    {
      "cell_type": "code",
      "execution_count": null,
      "metadata": {
        "id": "Gd133btF6Bni"
      },
      "outputs": [],
      "source": [
        "from nltk.tokenize import word_tokenize\n",
        "nltk.download('punkt')\n",
        "\n",
        "sentence = 'NLTK es una biblioteca de procesamiento de lenguaje natural.'\n",
        "tokens = word_tokenize(sentence)\n",
        "print(tokens)"
      ]
    },
    {
      "cell_type": "markdown",
      "metadata": {
        "id": "IQzb4V4D61sC"
      },
      "source": [
        "Derivación:proceso de reducir una palabra a su forma base o raíz"
      ]
    },
    {
      "cell_type": "code",
      "execution_count": null,
      "metadata": {
        "id": "7FU_QjSq6ZuR"
      },
      "outputs": [],
      "source": [
        "from nltk.stem import PorterStemmer\n",
        "\n",
        "words = ['running', 'plays', 'jumped']\n",
        "stemmer = PorterStemmer()\n",
        "stems = [stemmer.stem(word) for word in words]\n",
        "print(stems)"
      ]
    },
    {
      "cell_type": "code",
      "execution_count": null,
      "metadata": {},
      "outputs": [],
      "source": [
        "nltk.download('averaged_perceptron_tagger')\n",
        "from nltk import pos_tag\n",
        "from nltk.tokenize import word_tokenize\n",
        "\n",
        "\n",
        "sentence = 'NLTK es una biblioteca de procesamiento de lenguaje natural.'\n",
        "tokens = word_tokenize(sentence)\n",
        "tagged_words = pos_tag(tokens)\n",
        "print(tagged_words)"
      ]
    },
    {
      "cell_type": "markdown",
      "metadata": {
        "id": "JC1KB5HH7OWB"
      },
      "source": [
        "#Ejemplo básico de clasicación de texto utilizando el clasicador Naive Bayes de NLTK"
      ]
    },
    {
      "cell_type": "code",
      "execution_count": 6,
      "metadata": {
        "id": "7qCKC_6Z8d-a"
      },
      "outputs": [],
      "source": [
        "import nltk\n",
        "import random"
      ]
    },
    {
      "cell_type": "code",
      "execution_count": 9,
      "metadata": {
        "id": "FS2adIO77NJK"
      },
      "outputs": [],
      "source": [
        "#Ejemplo de conjunto de datos de textos etiquetados\n",
        "data = [\n",
        "    (\"I love this movie\", \"positive\"),\n",
        "    (\"This movie is terrible\", \"negative\"),\n",
        "    (\"This movie is great\", \"positive\"),\n",
        "    (\"I dislike this movie\", \"negative\"),\n",
        "    (\"This film is amazing\", \"positive\"),\n",
        "    (\"I can't stand watching this movie\", \"negative\"),\n",
        "    (\"The acting in this movie is phenomenal\", \"positive\"),\n",
        "    (\"I regret wasting my time on this film\", \"negative\"),\n",
        "    (\"I thoroughly enjoyed this movie\", \"positive\"),\n",
        "    (\"This movie lacks depth and substance\", \"negative\"),\n",
        "    (\"The plot of this movie was captivating\", \"positive\"),\n",
        "    (\"I found the characters in this film to be very engaging\", \"positive\"),\n",
        "    (\"The special effects in this movie were impressive\", \"positive\"),\n",
        "    (\"The storyline was predictable and unoriginal\", \"negative\"),\n",
        "    (\"I was disappointed by the lack of character development\", \"negative\"),\n",
        "    (\"The cinematography in this film was stunning\", \"positive\"),\n",
        "    (\"The dialogue felt forced and unnatural\", \"negative\"),\n",
        "    (\"The pacing of the movie was too slow for my liking\", \"negative\"),\n",
        "    (\"I was pleasantly surprised by how much I enjoyed this film\", \"positive\"),\n",
        "    (\"The ending left me feeling unsatisfied and confused\", \"negative\"),\n",
        "    (\"This movie exceeded my expectations\", \"positive\"),\n",
        "    (\"The performances by the actors were lackluster\", \"negative\"),\n",
        "]\n",
        "\n"
      ]
    },
    {
      "cell_type": "code",
      "execution_count": 10,
      "metadata": {
        "id": "_Pbe1dXI7m8c"
      },
      "outputs": [],
      "source": [
        "#Procesamiento de datos: tokenización y extracción de características\n",
        "def preprocess(text):\n",
        "  tokens = nltk.word_tokenize(text)\n",
        "  return {word: True for word in tokens}"
      ]
    },
    {
      "cell_type": "code",
      "execution_count": null,
      "metadata": {
        "id": "xXAQs-jw78OZ"
      },
      "outputs": [],
      "source": [
        "#Aplicamos el preprocesamiento a los datos\n",
        "!python -m nltk.downloader punkt\n",
        "featuresets = [(preprocess(text), label) for (text, label) in data]"
      ]
    },
    {
      "cell_type": "code",
      "execution_count": 13,
      "metadata": {
        "id": "6W4EM9CW8Pp8"
      },
      "outputs": [],
      "source": [
        "#Dividir los datos en conjuntos de entrenamiento y prueba\n",
        "train_set, test_set = featuresets[:16], featuresets[16:]"
      ]
    },
    {
      "cell_type": "code",
      "execution_count": 14,
      "metadata": {
        "id": "8rEZ7Cqt9Ctq"
      },
      "outputs": [],
      "source": [
        "#Entrenamos un clasificador utilizamos Naive Bayes\n",
        "classifier = nltk.NaiveBayesClassifier.train(train_set)"
      ]
    },
    {
      "cell_type": "code",
      "execution_count": 15,
      "metadata": {
        "colab": {
          "base_uri": "https://localhost:8080/"
        },
        "id": "jpSGIik09Iqr",
        "outputId": "a1485f87-b310-4e8b-aeb0-4c403431c0b5"
      },
      "outputs": [
        {
          "name": "stdout",
          "output_type": "stream",
          "text": [
            "Accuracy: 0.6666666666666666\n"
          ]
        }
      ],
      "source": [
        "#Evaluamos el clasificador en el conjunto de prueba\n",
        "accuracy = nltk.classify.accuracy(classifier, test_set)\n",
        "print(f'Accuracy: {accuracy}')"
      ]
    },
    {
      "cell_type": "code",
      "execution_count": 16,
      "metadata": {
        "colab": {
          "base_uri": "https://localhost:8080/"
        },
        "id": "llygrgPu9Uu7",
        "outputId": "49c733f1-5463-4593-ca28-0dfdd3d5392b"
      },
      "outputs": [
        {
          "name": "stdout",
          "output_type": "stream",
          "text": [
            "Predicted label: positive\n"
          ]
        }
      ],
      "source": [
        "#Clasificamos un nuevo texto\n",
        "\n",
        "new_text = 'This movie is amazing'\n",
        "new_text_features = preprocess(new_text)\n",
        "predicted_label = classifier.classify(new_text_features)\n",
        "print(f'Predicted label: {predicted_label}')"
      ]
    }
  ],
  "metadata": {
    "colab": {
      "provenance": []
    },
    "kernelspec": {
      "display_name": "Python 3",
      "name": "python3"
    },
    "language_info": {
      "codemirror_mode": {
        "name": "ipython",
        "version": 3
      },
      "file_extension": ".py",
      "mimetype": "text/x-python",
      "name": "python",
      "nbconvert_exporter": "python",
      "pygments_lexer": "ipython3",
      "version": "3.12.0"
    }
  },
  "nbformat": 4,
  "nbformat_minor": 0
}
